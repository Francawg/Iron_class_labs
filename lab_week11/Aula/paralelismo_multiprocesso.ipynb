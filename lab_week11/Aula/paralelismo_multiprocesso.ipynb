{
 "cells": [
  {
   "cell_type": "markdown",
   "metadata": {},
   "source": [
    "# Parallelism"
   ]
  },
  {
   "cell_type": "code",
   "execution_count": 1,
   "metadata": {
    "ExecuteTime": {
     "end_time": "2020-09-11T00:22:05.093244Z",
     "start_time": "2020-09-11T00:22:04.656243Z"
    }
   },
   "outputs": [
    {
     "name": "stderr",
     "output_type": "stream",
     "text": [
      "c:\\programas\\anaconda3\\lib\\site-packages\\numpy\\_distributor_init.py:32: UserWarning: loaded more than 1 DLL from .libs:\n",
      "c:\\programas\\anaconda3\\lib\\site-packages\\numpy\\.libs\\libopenblas.PYQHXLVVQ7VESDPUVUADXEVJOBGHJPAY.gfortran-win_amd64.dll\n",
      "c:\\programas\\anaconda3\\lib\\site-packages\\numpy\\.libs\\libopenblas.TXA6YQSD3GCQQC22GEQ54J2UDCXDXHWN.gfortran-win_amd64.dll\n",
      "  stacklevel=1)\n"
     ]
    }
   ],
   "source": [
    "import pandas as pd\n",
    "import numpy as np"
   ]
  },
  {
   "cell_type": "markdown",
   "metadata": {},
   "source": [
    "# Silly example"
   ]
  },
  {
   "cell_type": "code",
   "execution_count": 2,
   "metadata": {
    "ExecuteTime": {
     "end_time": "2020-09-11T00:22:05.098245Z",
     "start_time": "2020-09-11T00:22:05.095243Z"
    }
   },
   "outputs": [],
   "source": [
    "import time\n",
    "\n",
    "def my_sleep(x):\n",
    "    '''\n",
    "    Sleeps for x-seconds and returns the result x\n",
    "    '''\n",
    "    print(f'Sleeping for {x} seconds.')\n",
    "    time.sleep(x)\n",
    "    print(f'Returning {x}')\n",
    "    return x"
   ]
  },
  {
   "cell_type": "code",
   "execution_count": 4,
   "metadata": {
    "ExecuteTime": {
     "end_time": "2020-09-11T00:03:04.193524Z",
     "start_time": "2020-09-11T00:02:59.185319Z"
    }
   },
   "outputs": [
    {
     "name": "stdout",
     "output_type": "stream",
     "text": [
      "Sleeping for 5 seconds.\n",
      "Returning 5\n"
     ]
    },
    {
     "data": {
      "text/plain": [
       "5"
      ]
     },
     "execution_count": 4,
     "metadata": {},
     "output_type": "execute_result"
    }
   ],
   "source": [
    "my_sleep(5)"
   ]
  },
  {
   "cell_type": "code",
   "execution_count": 3,
   "metadata": {
    "ExecuteTime": {
     "end_time": "2020-09-11T00:22:07.562422Z",
     "start_time": "2020-09-11T00:22:07.559423Z"
    }
   },
   "outputs": [],
   "source": [
    "my_list = [1,2,3,4,5,6]"
   ]
  },
  {
   "cell_type": "code",
   "execution_count": 6,
   "metadata": {
    "ExecuteTime": {
     "end_time": "2020-09-11T00:03:26.809642Z",
     "start_time": "2020-09-11T00:03:26.805643Z"
    }
   },
   "outputs": [
    {
     "data": {
      "text/plain": [
       "21"
      ]
     },
     "execution_count": 6,
     "metadata": {},
     "output_type": "execute_result"
    }
   ],
   "source": [
    "sum(my_list)"
   ]
  },
  {
   "cell_type": "code",
   "execution_count": 4,
   "metadata": {
    "ExecuteTime": {
     "end_time": "2020-09-11T00:22:08.650424Z",
     "start_time": "2020-09-11T00:22:08.639423Z"
    }
   },
   "outputs": [],
   "source": [
    "from tqdm.auto import tqdm"
   ]
  },
  {
   "cell_type": "markdown",
   "metadata": {},
   "source": [
    "## Serial code"
   ]
  },
  {
   "cell_type": "code",
   "execution_count": 8,
   "metadata": {
    "ExecuteTime": {
     "end_time": "2020-09-11T00:04:03.422699Z",
     "start_time": "2020-09-11T00:03:42.390433Z"
    }
   },
   "outputs": [
    {
     "data": {
      "application/vnd.jupyter.widget-view+json": {
       "model_id": "d483e30561184b14b0d6702118bcfab2",
       "version_major": 2,
       "version_minor": 0
      },
      "text/plain": [
       "HBox(children=(FloatProgress(value=0.0, max=6.0), HTML(value='')))"
      ]
     },
     "metadata": {},
     "output_type": "display_data"
    },
    {
     "name": "stdout",
     "output_type": "stream",
     "text": [
      "Sleeping for 1 seconds.\n",
      "Returning 1\n",
      "Sleeping for 2 seconds.\n",
      "Returning 2\n",
      "Sleeping for 3 seconds.\n",
      "Returning 3\n",
      "Sleeping for 4 seconds.\n",
      "Returning 4\n",
      "Sleeping for 5 seconds.\n",
      "Returning 5\n",
      "Sleeping for 6 seconds.\n",
      "Returning 6\n",
      "\n"
     ]
    }
   ],
   "source": [
    "for item in tqdm(my_list):\n",
    "    my_sleep(item)"
   ]
  },
  {
   "cell_type": "code",
   "execution_count": 9,
   "metadata": {
    "ExecuteTime": {
     "end_time": "2020-09-11T00:05:42.801236Z",
     "start_time": "2020-09-11T00:05:42.797237Z"
    }
   },
   "outputs": [
    {
     "data": {
      "text/plain": [
       "<map at 0x1d7174c7e10>"
      ]
     },
     "execution_count": 9,
     "metadata": {},
     "output_type": "execute_result"
    }
   ],
   "source": [
    "map(my_sleep, my_list)"
   ]
  },
  {
   "cell_type": "code",
   "execution_count": 10,
   "metadata": {
    "ExecuteTime": {
     "end_time": "2020-09-11T00:07:30.562368Z",
     "start_time": "2020-09-11T00:07:09.555366Z"
    }
   },
   "outputs": [
    {
     "name": "stdout",
     "output_type": "stream",
     "text": [
      "Sleeping for 1 seconds.\n",
      "Returning 1\n",
      "Sleeping for 2 seconds.\n",
      "Returning 2\n",
      "Sleeping for 3 seconds.\n",
      "Returning 3\n",
      "Sleeping for 4 seconds.\n",
      "Returning 4\n",
      "Sleeping for 5 seconds.\n",
      "Returning 5\n",
      "Sleeping for 6 seconds.\n",
      "Returning 6\n"
     ]
    },
    {
     "data": {
      "text/plain": [
       "[1, 2, 3, 4, 5, 6]"
      ]
     },
     "execution_count": 10,
     "metadata": {},
     "output_type": "execute_result"
    }
   ],
   "source": [
    "list(map(my_sleep, my_list))"
   ]
  },
  {
   "cell_type": "markdown",
   "metadata": {},
   "source": [
    "## Parallel code"
   ]
  },
  {
   "cell_type": "code",
   "execution_count": 5,
   "metadata": {
    "ExecuteTime": {
     "end_time": "2020-09-11T00:22:11.830626Z",
     "start_time": "2020-09-11T00:22:11.815628Z"
    }
   },
   "outputs": [
    {
     "data": {
      "text/plain": [
       "6"
      ]
     },
     "execution_count": 5,
     "metadata": {},
     "output_type": "execute_result"
    }
   ],
   "source": [
    "from multiprocessing import Pool, cpu_count\n",
    "\n",
    "cpu_count()"
   ]
  },
  {
   "cell_type": "markdown",
   "metadata": {},
   "source": [
    "## You have to create a pool of `n` process."
   ]
  },
  {
   "cell_type": "code",
   "execution_count": 14,
   "metadata": {
    "ExecuteTime": {
     "end_time": "2020-09-11T00:14:25.557673Z",
     "start_time": "2020-09-11T00:14:25.523673Z"
    }
   },
   "outputs": [],
   "source": [
    "pool = Pool(processes=6)"
   ]
  },
  {
   "cell_type": "markdown",
   "metadata": {},
   "source": [
    "### We'll `use the magic function` here to measure the velocity of this code in parallel."
   ]
  },
  {
   "cell_type": "markdown",
   "metadata": {},
   "source": [
    "However, if you run this code, watch what happens:"
   ]
  },
  {
   "cell_type": "code",
   "execution_count": null,
   "metadata": {
    "ExecuteTime": {
     "start_time": "2020-09-11T00:16:36.140Z"
    }
   },
   "outputs": [],
   "source": [
    "pool.map(my_sleep, my_list)"
   ]
  },
  {
   "cell_type": "markdown",
   "metadata": {},
   "source": [
    "## This happens because multiprocessing not always (?) work in Jupyter Notebooks. \n",
    "\n",
    "_Some versions of linux or macbooks may handle it well (yay unix)_. But certainly it doesn't work for Windows.\n",
    "\n",
    "### What should we do then? Two solutions.\n",
    "\n",
    "1. We have to write our functions inside a `.py` file.\n",
    "\n",
    "2. Install `multiprocess` (note it is different from Python's `multiprocessing` module)"
   ]
  },
  {
   "cell_type": "code",
   "execution_count": 8,
   "metadata": {
    "ExecuteTime": {
     "end_time": "2020-09-11T00:22:18.980229Z",
     "start_time": "2020-09-11T00:22:18.976200Z"
    }
   },
   "outputs": [],
   "source": [
    "from sleeper import my_sleep_from_file"
   ]
  },
  {
   "cell_type": "code",
   "execution_count": 8,
   "metadata": {
    "ExecuteTime": {
     "end_time": "2020-09-11T00:19:58.246978Z",
     "start_time": "2020-09-11T00:19:58.212979Z"
    }
   },
   "outputs": [],
   "source": [
    "pool = Pool(processes=6)"
   ]
  },
  {
   "cell_type": "code",
   "execution_count": 10,
   "metadata": {
    "ExecuteTime": {
     "end_time": "2020-09-11T00:20:13.278674Z",
     "start_time": "2020-09-11T00:20:13.274672Z"
    }
   },
   "outputs": [
    {
     "data": {
      "text/plain": [
       "[1, 2, 3, 4, 5, 6]"
      ]
     },
     "execution_count": 10,
     "metadata": {},
     "output_type": "execute_result"
    }
   ],
   "source": [
    "my_list"
   ]
  },
  {
   "cell_type": "code",
   "execution_count": 9,
   "metadata": {
    "ExecuteTime": {
     "end_time": "2020-09-11T00:20:04.909786Z",
     "start_time": "2020-09-11T00:19:58.902978Z"
    }
   },
   "outputs": [
    {
     "data": {
      "text/plain": [
       "[1, 2, 3, 4, 5, 6]"
      ]
     },
     "execution_count": 9,
     "metadata": {},
     "output_type": "execute_result"
    }
   ],
   "source": [
    "pool.map(my_sleep_from_file, my_list)"
   ]
  },
  {
   "cell_type": "code",
   "execution_count": 11,
   "metadata": {
    "ExecuteTime": {
     "end_time": "2020-09-11T00:20:56.157090Z",
     "start_time": "2020-09-11T00:20:56.083093Z"
    }
   },
   "outputs": [],
   "source": [
    "pool.terminate()"
   ]
  },
  {
   "cell_type": "code",
   "execution_count": 9,
   "metadata": {
    "ExecuteTime": {
     "end_time": "2020-09-11T00:22:21.484253Z",
     "start_time": "2020-09-11T00:22:21.474252Z"
    }
   },
   "outputs": [],
   "source": [
    "pool = Pool(processes=2)"
   ]
  },
  {
   "cell_type": "code",
   "execution_count": 10,
   "metadata": {
    "ExecuteTime": {
     "end_time": "2020-09-11T00:22:33.884617Z",
     "start_time": "2020-09-11T00:22:21.836309Z"
    }
   },
   "outputs": [],
   "source": [
    "result = pool.map(my_sleep_from_file, my_list)\n",
    "pool.terminate()"
   ]
  },
  {
   "cell_type": "code",
   "execution_count": 11,
   "metadata": {
    "ExecuteTime": {
     "end_time": "2020-09-11T00:22:36.023466Z",
     "start_time": "2020-09-11T00:22:36.020464Z"
    }
   },
   "outputs": [
    {
     "data": {
      "text/plain": [
       "[1, 2, 3, 4, 5, 6]"
      ]
     },
     "execution_count": 11,
     "metadata": {},
     "output_type": "execute_result"
    }
   ],
   "source": [
    "result"
   ]
  },
  {
   "cell_type": "markdown",
   "metadata": {},
   "source": [
    "`!pip install multiprocess`"
   ]
  },
  {
   "cell_type": "markdown",
   "metadata": {},
   "source": [
    "## Using multiprocess\n"
   ]
  },
  {
   "cell_type": "code",
   "execution_count": 12,
   "metadata": {
    "ExecuteTime": {
     "end_time": "2020-09-11T00:23:52.026607Z",
     "start_time": "2020-09-11T00:23:52.023635Z"
    }
   },
   "outputs": [],
   "source": [
    "# using multiprocess instead of multiprocessing\n",
    "from multiprocess import Pool"
   ]
  },
  {
   "cell_type": "code",
   "execution_count": 13,
   "metadata": {
    "ExecuteTime": {
     "end_time": "2020-09-11T00:23:55.895779Z",
     "start_time": "2020-09-11T00:23:55.850778Z"
    }
   },
   "outputs": [],
   "source": [
    "pool = Pool(processes=6)"
   ]
  },
  {
   "cell_type": "code",
   "execution_count": 14,
   "metadata": {
    "ExecuteTime": {
     "end_time": "2020-09-11T00:24:01.752686Z",
     "start_time": "2020-09-11T00:24:01.730686Z"
    }
   },
   "outputs": [
    {
     "ename": "NameError",
     "evalue": "name 'time' is not defined",
     "output_type": "error",
     "traceback": [
      "\u001b[1;31m---------------------------------------------------------------------------\u001b[0m",
      "\u001b[1;31mRemoteTraceback\u001b[0m                           Traceback (most recent call last)",
      "\u001b[1;31mRemoteTraceback\u001b[0m: \n\"\"\"\nTraceback (most recent call last):\n  File \"c:\\programas\\anaconda3\\lib\\site-packages\\multiprocess\\pool.py\", line 121, in worker\n    result = (True, func(*args, **kwds))\n  File \"c:\\programas\\anaconda3\\lib\\site-packages\\multiprocess\\pool.py\", line 44, in mapstar\n    return list(map(*args))\n  File \"<ipython-input-2-09646a6970e2>\", line 8, in my_sleep\nNameError: name 'time' is not defined\n\"\"\"",
      "\nThe above exception was the direct cause of the following exception:\n",
      "\u001b[1;31mNameError\u001b[0m                                 Traceback (most recent call last)",
      "\u001b[1;32m<ipython-input-14-52766b048838>\u001b[0m in \u001b[0;36m<module>\u001b[1;34m\u001b[0m\n\u001b[1;32m----> 1\u001b[1;33m \u001b[0mresult\u001b[0m \u001b[1;33m=\u001b[0m \u001b[0mpool\u001b[0m\u001b[1;33m.\u001b[0m\u001b[0mmap\u001b[0m\u001b[1;33m(\u001b[0m\u001b[0mmy_sleep\u001b[0m\u001b[1;33m,\u001b[0m \u001b[1;33m[\u001b[0m\u001b[1;36m1\u001b[0m\u001b[1;33m,\u001b[0m\u001b[1;36m2\u001b[0m\u001b[1;33m,\u001b[0m\u001b[1;36m3\u001b[0m\u001b[1;33m,\u001b[0m\u001b[1;36m4\u001b[0m\u001b[1;33m,\u001b[0m\u001b[1;36m5\u001b[0m\u001b[1;33m,\u001b[0m\u001b[1;36m6\u001b[0m\u001b[1;33m]\u001b[0m\u001b[1;33m)\u001b[0m\u001b[1;33m\u001b[0m\u001b[1;33m\u001b[0m\u001b[0m\n\u001b[0m\u001b[0;32m      2\u001b[0m \u001b[0mpool\u001b[0m\u001b[1;33m.\u001b[0m\u001b[0mterminate\u001b[0m\u001b[1;33m(\u001b[0m\u001b[1;33m)\u001b[0m\u001b[1;33m\u001b[0m\u001b[1;33m\u001b[0m\u001b[0m\n",
      "\u001b[1;32mc:\\programas\\anaconda3\\lib\\site-packages\\multiprocess\\pool.py\u001b[0m in \u001b[0;36mmap\u001b[1;34m(self, func, iterable, chunksize)\u001b[0m\n\u001b[0;32m    266\u001b[0m         \u001b[1;32min\u001b[0m \u001b[0ma\u001b[0m \u001b[0mlist\u001b[0m \u001b[0mthat\u001b[0m \u001b[1;32mis\u001b[0m \u001b[0mreturned\u001b[0m\u001b[1;33m.\u001b[0m\u001b[1;33m\u001b[0m\u001b[1;33m\u001b[0m\u001b[0m\n\u001b[0;32m    267\u001b[0m         '''\n\u001b[1;32m--> 268\u001b[1;33m         \u001b[1;32mreturn\u001b[0m \u001b[0mself\u001b[0m\u001b[1;33m.\u001b[0m\u001b[0m_map_async\u001b[0m\u001b[1;33m(\u001b[0m\u001b[0mfunc\u001b[0m\u001b[1;33m,\u001b[0m \u001b[0miterable\u001b[0m\u001b[1;33m,\u001b[0m \u001b[0mmapstar\u001b[0m\u001b[1;33m,\u001b[0m \u001b[0mchunksize\u001b[0m\u001b[1;33m)\u001b[0m\u001b[1;33m.\u001b[0m\u001b[0mget\u001b[0m\u001b[1;33m(\u001b[0m\u001b[1;33m)\u001b[0m\u001b[1;33m\u001b[0m\u001b[1;33m\u001b[0m\u001b[0m\n\u001b[0m\u001b[0;32m    269\u001b[0m \u001b[1;33m\u001b[0m\u001b[0m\n\u001b[0;32m    270\u001b[0m     \u001b[1;32mdef\u001b[0m \u001b[0mstarmap\u001b[0m\u001b[1;33m(\u001b[0m\u001b[0mself\u001b[0m\u001b[1;33m,\u001b[0m \u001b[0mfunc\u001b[0m\u001b[1;33m,\u001b[0m \u001b[0miterable\u001b[0m\u001b[1;33m,\u001b[0m \u001b[0mchunksize\u001b[0m\u001b[1;33m=\u001b[0m\u001b[1;32mNone\u001b[0m\u001b[1;33m)\u001b[0m\u001b[1;33m:\u001b[0m\u001b[1;33m\u001b[0m\u001b[1;33m\u001b[0m\u001b[0m\n",
      "\u001b[1;32mc:\\programas\\anaconda3\\lib\\site-packages\\multiprocess\\pool.py\u001b[0m in \u001b[0;36mget\u001b[1;34m(self, timeout)\u001b[0m\n\u001b[0;32m    655\u001b[0m             \u001b[1;32mreturn\u001b[0m \u001b[0mself\u001b[0m\u001b[1;33m.\u001b[0m\u001b[0m_value\u001b[0m\u001b[1;33m\u001b[0m\u001b[1;33m\u001b[0m\u001b[0m\n\u001b[0;32m    656\u001b[0m         \u001b[1;32melse\u001b[0m\u001b[1;33m:\u001b[0m\u001b[1;33m\u001b[0m\u001b[1;33m\u001b[0m\u001b[0m\n\u001b[1;32m--> 657\u001b[1;33m             \u001b[1;32mraise\u001b[0m \u001b[0mself\u001b[0m\u001b[1;33m.\u001b[0m\u001b[0m_value\u001b[0m\u001b[1;33m\u001b[0m\u001b[1;33m\u001b[0m\u001b[0m\n\u001b[0m\u001b[0;32m    658\u001b[0m \u001b[1;33m\u001b[0m\u001b[0m\n\u001b[0;32m    659\u001b[0m     \u001b[1;32mdef\u001b[0m \u001b[0m_set\u001b[0m\u001b[1;33m(\u001b[0m\u001b[0mself\u001b[0m\u001b[1;33m,\u001b[0m \u001b[0mi\u001b[0m\u001b[1;33m,\u001b[0m \u001b[0mobj\u001b[0m\u001b[1;33m)\u001b[0m\u001b[1;33m:\u001b[0m\u001b[1;33m\u001b[0m\u001b[1;33m\u001b[0m\u001b[0m\n",
      "\u001b[1;31mNameError\u001b[0m: name 'time' is not defined"
     ]
    }
   ],
   "source": [
    "result = pool.map(my_sleep, [1,2,3,4,5,6])\n",
    "pool.terminate()"
   ]
  },
  {
   "cell_type": "code",
   "execution_count": 15,
   "metadata": {
    "ExecuteTime": {
     "end_time": "2020-09-11T00:25:28.777314Z",
     "start_time": "2020-09-11T00:25:28.774316Z"
    }
   },
   "outputs": [],
   "source": [
    "def my_sleep(x):\n",
    "    '''\n",
    "    Sleeps for x-seconds and returns the result x\n",
    "    '''\n",
    "    import time    \n",
    "    \n",
    "    print(f'Sleeping for {x} seconds.')\n",
    "    time.sleep(x)\n",
    "    print(f'Returning {x}')\n",
    "    return x"
   ]
  },
  {
   "cell_type": "code",
   "execution_count": 20,
   "metadata": {
    "ExecuteTime": {
     "end_time": "2020-09-11T00:27:18.476038Z",
     "start_time": "2020-09-11T00:27:18.441038Z"
    }
   },
   "outputs": [],
   "source": [
    "pool = Pool(processes=6)"
   ]
  },
  {
   "cell_type": "code",
   "execution_count": 21,
   "metadata": {
    "ExecuteTime": {
     "end_time": "2020-09-11T00:27:28.951000Z",
     "start_time": "2020-09-11T00:27:18.894037Z"
    }
   },
   "outputs": [],
   "source": [
    "result = pool.map(my_sleep, [1,2,3,4,5,6,7,8])\n",
    "pool.terminate()"
   ]
  },
  {
   "cell_type": "markdown",
   "metadata": {},
   "source": [
    "# Running Asynchronous code\n",
    "\n",
    "## What is asynchrony?\n",
    "\n",
    "- `result.ready()`\n",
    "- `result.wait()`\n",
    "- `result.get()`"
   ]
  },
  {
   "cell_type": "code",
   "execution_count": 22,
   "metadata": {
    "ExecuteTime": {
     "end_time": "2020-09-11T00:27:58.171625Z",
     "start_time": "2020-09-11T00:27:58.126625Z"
    },
    "scrolled": true
   },
   "outputs": [],
   "source": [
    "pool = Pool(processes=6)"
   ]
  },
  {
   "cell_type": "code",
   "execution_count": 23,
   "metadata": {
    "ExecuteTime": {
     "end_time": "2020-09-11T00:28:38.218364Z",
     "start_time": "2020-09-11T00:28:38.214363Z"
    }
   },
   "outputs": [],
   "source": [
    "result = pool.map_async(my_sleep, [60, 60, 60, 60, 60, 60])"
   ]
  },
  {
   "cell_type": "code",
   "execution_count": 42,
   "metadata": {
    "ExecuteTime": {
     "end_time": "2020-09-11T00:32:48.935362Z",
     "start_time": "2020-09-11T00:32:48.932360Z"
    }
   },
   "outputs": [
    {
     "data": {
      "text/plain": [
       "True"
      ]
     },
     "execution_count": 42,
     "metadata": {},
     "output_type": "execute_result"
    }
   ],
   "source": [
    "result.successful()"
   ]
  },
  {
   "cell_type": "code",
   "execution_count": 39,
   "metadata": {
    "ExecuteTime": {
     "end_time": "2020-09-11T00:29:46.513341Z",
     "start_time": "2020-09-11T00:29:46.509341Z"
    }
   },
   "outputs": [
    {
     "data": {
      "text/plain": [
       "True"
      ]
     },
     "execution_count": 39,
     "metadata": {},
     "output_type": "execute_result"
    }
   ],
   "source": [
    "result.ready()"
   ]
  },
  {
   "cell_type": "code",
   "execution_count": 38,
   "metadata": {
    "ExecuteTime": {
     "end_time": "2020-09-11T00:29:38.220328Z",
     "start_time": "2020-09-11T00:29:37.457570Z"
    }
   },
   "outputs": [],
   "source": [
    "result.wait()"
   ]
  },
  {
   "cell_type": "code",
   "execution_count": 40,
   "metadata": {
    "ExecuteTime": {
     "end_time": "2020-09-11T00:29:52.357650Z",
     "start_time": "2020-09-11T00:29:52.353647Z"
    }
   },
   "outputs": [
    {
     "data": {
      "text/plain": [
       "[60, 60, 60, 60, 60, 60]"
      ]
     },
     "execution_count": 40,
     "metadata": {},
     "output_type": "execute_result"
    }
   ],
   "source": [
    "result.get()"
   ]
  },
  {
   "cell_type": "code",
   "execution_count": 43,
   "metadata": {
    "ExecuteTime": {
     "end_time": "2020-09-11T00:36:12.569369Z",
     "start_time": "2020-09-11T00:36:12.564369Z"
    }
   },
   "outputs": [],
   "source": [
    "result = pool.map_async(my_sleep, [60, 60, 60, 60, 60, 60])"
   ]
  },
  {
   "cell_type": "code",
   "execution_count": 47,
   "metadata": {
    "ExecuteTime": {
     "end_time": "2020-09-11T00:36:47.530662Z",
     "start_time": "2020-09-11T00:36:47.527661Z"
    }
   },
   "outputs": [
    {
     "data": {
      "text/plain": [
       "False"
      ]
     },
     "execution_count": 47,
     "metadata": {},
     "output_type": "execute_result"
    }
   ],
   "source": [
    "result.ready()"
   ]
  },
  {
   "cell_type": "code",
   "execution_count": 48,
   "metadata": {
    "ExecuteTime": {
     "end_time": "2020-09-11T00:37:12.679748Z",
     "start_time": "2020-09-11T00:36:49.645911Z"
    }
   },
   "outputs": [
    {
     "name": "stdout",
     "output_type": "stream",
     "text": [
      "Do something that doesn\"t depend on result\n",
      "...\n",
      "Now the time came when the result is needed.\n",
      "Now go on and use the results obtained - [60, 60, 60, 60, 60, 60]\n"
     ]
    }
   ],
   "source": [
    "print('Do something that doesn\"t depend on result')\n",
    "print('...')\n",
    "print('Now the time came when the result is needed.')\n",
    "result.wait()\n",
    "\n",
    "result_list = result.get()\n",
    "pool.terminate()\n",
    "print(f'Now go on and use the results obtained - {result_list}')"
   ]
  },
  {
   "cell_type": "markdown",
   "metadata": {},
   "source": [
    "# CPU intensive computations"
   ]
  },
  {
   "cell_type": "code",
   "execution_count": 49,
   "metadata": {
    "ExecuteTime": {
     "end_time": "2020-09-11T00:45:01.220490Z",
     "start_time": "2020-09-11T00:45:01.217487Z"
    }
   },
   "outputs": [],
   "source": [
    "def square(x):\n",
    "    return x ** 2"
   ]
  },
  {
   "cell_type": "code",
   "execution_count": 52,
   "metadata": {
    "ExecuteTime": {
     "end_time": "2020-09-11T00:45:22.636678Z",
     "start_time": "2020-09-11T00:45:22.632678Z"
    }
   },
   "outputs": [],
   "source": [
    "n = 1000000"
   ]
  },
  {
   "cell_type": "code",
   "execution_count": 55,
   "metadata": {
    "ExecuteTime": {
     "end_time": "2020-09-11T00:45:57.229128Z",
     "start_time": "2020-09-11T00:45:57.219099Z"
    }
   },
   "outputs": [],
   "source": [
    "random_numbers = np.random.random(size=n)"
   ]
  },
  {
   "cell_type": "code",
   "execution_count": 56,
   "metadata": {
    "ExecuteTime": {
     "end_time": "2020-09-11T00:45:58.298460Z",
     "start_time": "2020-09-11T00:45:57.883430Z"
    }
   },
   "outputs": [],
   "source": [
    "result = [square(item) for item in random_numbers]"
   ]
  },
  {
   "cell_type": "code",
   "execution_count": 57,
   "metadata": {
    "ExecuteTime": {
     "end_time": "2020-09-11T00:46:18.989657Z",
     "start_time": "2020-09-11T00:46:18.950658Z"
    },
    "scrolled": true
   },
   "outputs": [],
   "source": [
    "pool = Pool(processes=6)"
   ]
  },
  {
   "cell_type": "code",
   "execution_count": 58,
   "metadata": {
    "ExecuteTime": {
     "end_time": "2020-09-11T00:46:51.945448Z",
     "start_time": "2020-09-11T00:46:34.439918Z"
    }
   },
   "outputs": [],
   "source": [
    "result = pool.map(square, random_numbers)\n",
    "pool.terminate()"
   ]
  },
  {
   "cell_type": "code",
   "execution_count": null,
   "metadata": {},
   "outputs": [],
   "source": [
    "# GIL - global interpreter lock"
   ]
  },
  {
   "cell_type": "markdown",
   "metadata": {},
   "source": [
    "## Usually, for CPU intensive computations, Pool.map won't speed up your code.\n",
    "\n",
    "Why? It will spend more time managing process, replicating data and sending data to other process than actually computing it.\n",
    "\n"
   ]
  },
  {
   "cell_type": "markdown",
   "metadata": {},
   "source": [
    "# When is multiprocess useful then? \n",
    "\n",
    "\n",
    "## I/O bound computations"
   ]
  },
  {
   "cell_type": "code",
   "execution_count": 59,
   "metadata": {
    "ExecuteTime": {
     "end_time": "2020-09-11T00:50:56.475205Z",
     "start_time": "2020-09-11T00:50:56.471207Z"
    }
   },
   "outputs": [],
   "source": [
    "import pandas as pd"
   ]
  },
  {
   "cell_type": "code",
   "execution_count": 60,
   "metadata": {
    "ExecuteTime": {
     "end_time": "2020-09-11T00:50:58.324905Z",
     "start_time": "2020-09-11T00:50:58.247842Z"
    }
   },
   "outputs": [],
   "source": [
    "import requests"
   ]
  },
  {
   "cell_type": "code",
   "execution_count": 64,
   "metadata": {
    "ExecuteTime": {
     "end_time": "2020-09-11T00:53:04.475151Z",
     "start_time": "2020-09-11T00:53:03.886125Z"
    }
   },
   "outputs": [
    {
     "data": {
      "text/html": [
       "<div>\n",
       "<style scoped>\n",
       "    .dataframe tbody tr th:only-of-type {\n",
       "        vertical-align: middle;\n",
       "    }\n",
       "\n",
       "    .dataframe tbody tr th {\n",
       "        vertical-align: top;\n",
       "    }\n",
       "\n",
       "    .dataframe thead th {\n",
       "        text-align: right;\n",
       "    }\n",
       "</style>\n",
       "<table border=\"1\" class=\"dataframe\">\n",
       "  <thead>\n",
       "    <tr style=\"text-align: right;\">\n",
       "      <th></th>\n",
       "      <th>0</th>\n",
       "      <th>1</th>\n",
       "      <th>2</th>\n",
       "      <th>3</th>\n",
       "      <th>4</th>\n",
       "    </tr>\n",
       "  </thead>\n",
       "  <tbody>\n",
       "    <tr>\n",
       "      <th>0</th>\n",
       "      <td>Sprout</td>\n",
       "      <td>2 - 0</td>\n",
       "      <td>AGF</td>\n",
       "      <td>Nine to Five 4</td>\n",
       "      <td>bo3</td>\n",
       "    </tr>\n",
       "    <tr>\n",
       "      <th>0</th>\n",
       "      <td>Gambit Youngsters</td>\n",
       "      <td>2 - 1</td>\n",
       "      <td>Hard Legion</td>\n",
       "      <td>LOOT.BET Season 7</td>\n",
       "      <td>bo3</td>\n",
       "    </tr>\n",
       "    <tr>\n",
       "      <th>0</th>\n",
       "      <td>Espada</td>\n",
       "      <td>1 - 2</td>\n",
       "      <td>Secret</td>\n",
       "      <td>Nine to Five 4</td>\n",
       "      <td>bo3</td>\n",
       "    </tr>\n",
       "    <tr>\n",
       "      <th>0</th>\n",
       "      <td>AVEZ</td>\n",
       "      <td>2 - 0</td>\n",
       "      <td>SG.pro</td>\n",
       "      <td>Nine to Five 4</td>\n",
       "      <td>bo3</td>\n",
       "    </tr>\n",
       "    <tr>\n",
       "      <th>0</th>\n",
       "      <td>Bantz</td>\n",
       "      <td>6 - 16</td>\n",
       "      <td>VERTEX</td>\n",
       "      <td>ESEA MDL Season 35 Australia</td>\n",
       "      <td>nuke</td>\n",
       "    </tr>\n",
       "    <tr>\n",
       "      <th>...</th>\n",
       "      <td>...</td>\n",
       "      <td>...</td>\n",
       "      <td>...</td>\n",
       "      <td>...</td>\n",
       "      <td>...</td>\n",
       "    </tr>\n",
       "    <tr>\n",
       "      <th>0</th>\n",
       "      <td>Sixth Gear</td>\n",
       "      <td>6 - 16</td>\n",
       "      <td>TeamOne</td>\n",
       "      <td>ESEA MDL Season 35 North America</td>\n",
       "      <td>inf</td>\n",
       "    </tr>\n",
       "    <tr>\n",
       "      <th>0</th>\n",
       "      <td>Isurus</td>\n",
       "      <td>16 - 6</td>\n",
       "      <td>Keyd</td>\n",
       "      <td>CLUTCH Season 3</td>\n",
       "      <td>ovp</td>\n",
       "    </tr>\n",
       "    <tr>\n",
       "      <th>0</th>\n",
       "      <td>Rugratz</td>\n",
       "      <td>8 - 16</td>\n",
       "      <td>Mythic</td>\n",
       "      <td>ESEA MDL Season 35 North America</td>\n",
       "      <td>ovp</td>\n",
       "    </tr>\n",
       "    <tr>\n",
       "      <th>0</th>\n",
       "      <td>RBG</td>\n",
       "      <td>11 - 16</td>\n",
       "      <td>timbermen</td>\n",
       "      <td>ESEA MDL Season 35 North America</td>\n",
       "      <td>ovp</td>\n",
       "    </tr>\n",
       "    <tr>\n",
       "      <th>0</th>\n",
       "      <td>RED Canids</td>\n",
       "      <td>13 - 16</td>\n",
       "      <td>DETONA</td>\n",
       "      <td>CLUTCH Season 3</td>\n",
       "      <td>vtg</td>\n",
       "    </tr>\n",
       "  </tbody>\n",
       "</table>\n",
       "<p>100 rows × 5 columns</p>\n",
       "</div>"
      ],
      "text/plain": [
       "                    0        1            2                                 3  \\\n",
       "0              Sprout    2 - 0          AGF                    Nine to Five 4   \n",
       "0   Gambit Youngsters    2 - 1  Hard Legion                 LOOT.BET Season 7   \n",
       "0              Espada    1 - 2       Secret                    Nine to Five 4   \n",
       "0                AVEZ    2 - 0       SG.pro                    Nine to Five 4   \n",
       "0               Bantz   6 - 16       VERTEX      ESEA MDL Season 35 Australia   \n",
       "..                ...      ...          ...                               ...   \n",
       "0          Sixth Gear   6 - 16      TeamOne  ESEA MDL Season 35 North America   \n",
       "0              Isurus   16 - 6         Keyd                   CLUTCH Season 3   \n",
       "0             Rugratz   8 - 16       Mythic  ESEA MDL Season 35 North America   \n",
       "0                 RBG  11 - 16    timbermen  ESEA MDL Season 35 North America   \n",
       "0          RED Canids  13 - 16       DETONA                   CLUTCH Season 3   \n",
       "\n",
       "       4  \n",
       "0    bo3  \n",
       "0    bo3  \n",
       "0    bo3  \n",
       "0    bo3  \n",
       "0   nuke  \n",
       "..   ...  \n",
       "0    inf  \n",
       "0    ovp  \n",
       "0    ovp  \n",
       "0    ovp  \n",
       "0    vtg  \n",
       "\n",
       "[100 rows x 5 columns]"
      ]
     },
     "execution_count": 64,
     "metadata": {},
     "output_type": "execute_result"
    }
   ],
   "source": [
    "response = requests.get(f'https://www.hltv.org/results?offset=100')\n",
    "df = pd.concat(pd.read_html(response.text))\n",
    "df"
   ]
  },
  {
   "cell_type": "code",
   "execution_count": 68,
   "metadata": {
    "ExecuteTime": {
     "end_time": "2020-09-11T00:58:50.231752Z",
     "start_time": "2020-09-11T00:58:50.224740Z"
    }
   },
   "outputs": [
    {
     "ename": "SyntaxError",
     "evalue": "'return' outside function (<ipython-input-68-69d6385309da>, line 10)",
     "output_type": "error",
     "traceback": [
      "\u001b[1;36m  File \u001b[1;32m\"<ipython-input-68-69d6385309da>\"\u001b[1;36m, line \u001b[1;32m10\u001b[0m\n\u001b[1;33m    return df\u001b[0m\n\u001b[1;37m    ^\u001b[0m\n\u001b[1;31mSyntaxError\u001b[0m\u001b[1;31m:\u001b[0m 'return' outside function\n"
     ]
    }
   ],
   "source": [
    "colnames = ['team_a','score_a','score_b','team_b','event','stars']\n",
    "my_range = range(550)\n",
    "\n",
    "\n",
    "for i in tqdm(my_range):\n",
    "    response = requests.get(f'https://www.hltv.org/results?offset={i * 100}')\n",
    "    df = pd.concat(pd.read_html(response.text))\n",
    "    df.to_csv(f'tmp/results_{i}.csv', index=False, sep=',')\n",
    "    \n",
    "    "
   ]
  },
  {
   "cell_type": "code",
   "execution_count": 69,
   "metadata": {
    "ExecuteTime": {
     "end_time": "2020-09-11T00:59:04.199706Z",
     "start_time": "2020-09-11T00:59:04.195705Z"
    }
   },
   "outputs": [],
   "source": [
    "def download(i):\n",
    "    import requests\n",
    "    import pandas as pd\n",
    "    \n",
    "    response = requests.get(f'https://www.hltv.org/results?offset={i * 100}')\n",
    "    df = pd.concat(pd.read_html(response.text))\n",
    "    df.to_csv(f'tmp/results_{i}.csv', index=False, sep=',')\n",
    "    \n",
    "    return df"
   ]
  },
  {
   "cell_type": "code",
   "execution_count": 70,
   "metadata": {
    "ExecuteTime": {
     "end_time": "2020-09-11T00:59:13.315524Z",
     "start_time": "2020-09-11T00:59:13.268522Z"
    }
   },
   "outputs": [],
   "source": [
    "pool = Pool(processes=6)\n",
    "results = pool.map_async(download, my_range)"
   ]
  },
  {
   "cell_type": "code",
   "execution_count": 99,
   "metadata": {
    "ExecuteTime": {
     "end_time": "2020-09-11T01:00:26.942361Z",
     "start_time": "2020-09-11T01:00:26.938361Z"
    }
   },
   "outputs": [
    {
     "data": {
      "text/plain": [
       "True"
      ]
     },
     "execution_count": 99,
     "metadata": {},
     "output_type": "execute_result"
    }
   ],
   "source": [
    "results.ready()"
   ]
  },
  {
   "cell_type": "code",
   "execution_count": 98,
   "metadata": {
    "ExecuteTime": {
     "end_time": "2020-09-11T01:00:25.175163Z",
     "start_time": "2020-09-11T01:00:25.169163Z"
    }
   },
   "outputs": [
    {
     "data": {
      "text/plain": [
       "550"
      ]
     },
     "execution_count": 98,
     "metadata": {},
     "output_type": "execute_result"
    }
   ],
   "source": [
    "import os\n",
    "\n",
    "len(os.listdir('tmp'))"
   ]
  },
  {
   "cell_type": "code",
   "execution_count": 101,
   "metadata": {
    "ExecuteTime": {
     "end_time": "2020-09-11T01:01:28.540710Z",
     "start_time": "2020-09-11T01:01:28.395710Z"
    }
   },
   "outputs": [
    {
     "data": {
      "text/html": [
       "<div>\n",
       "<style scoped>\n",
       "    .dataframe tbody tr th:only-of-type {\n",
       "        vertical-align: middle;\n",
       "    }\n",
       "\n",
       "    .dataframe tbody tr th {\n",
       "        vertical-align: top;\n",
       "    }\n",
       "\n",
       "    .dataframe thead th {\n",
       "        text-align: right;\n",
       "    }\n",
       "</style>\n",
       "<table border=\"1\" class=\"dataframe\">\n",
       "  <thead>\n",
       "    <tr style=\"text-align: right;\">\n",
       "      <th></th>\n",
       "      <th>0</th>\n",
       "      <th>1</th>\n",
       "      <th>2</th>\n",
       "      <th>3</th>\n",
       "      <th>4</th>\n",
       "    </tr>\n",
       "  </thead>\n",
       "  <tbody>\n",
       "    <tr>\n",
       "      <th>0</th>\n",
       "      <td>G2</td>\n",
       "      <td>0 - 2</td>\n",
       "      <td>ENCE</td>\n",
       "      <td>ESL Pro League Season 12 Europe</td>\n",
       "      <td>bo3</td>\n",
       "    </tr>\n",
       "    <tr>\n",
       "      <th>0</th>\n",
       "      <td>BIG</td>\n",
       "      <td>1 - 2</td>\n",
       "      <td>Heroic</td>\n",
       "      <td>ESL Pro League Season 12 Europe</td>\n",
       "      <td>bo3</td>\n",
       "    </tr>\n",
       "    <tr>\n",
       "      <th>0</th>\n",
       "      <td>Natus Vincere</td>\n",
       "      <td>2 - 0</td>\n",
       "      <td>AGO</td>\n",
       "      <td>ESL Pro League Season 12 Europe</td>\n",
       "      <td>bo3</td>\n",
       "    </tr>\n",
       "    <tr>\n",
       "      <th>0</th>\n",
       "      <td>Vitality</td>\n",
       "      <td>1 - 2</td>\n",
       "      <td>Astralis</td>\n",
       "      <td>ESL Pro League Season 12 Europe</td>\n",
       "      <td>bo3</td>\n",
       "    </tr>\n",
       "    <tr>\n",
       "      <th>0</th>\n",
       "      <td>100 Thieves</td>\n",
       "      <td>2 - 0</td>\n",
       "      <td>Chaos</td>\n",
       "      <td>ESL Pro League Season 12 North America</td>\n",
       "      <td>bo3</td>\n",
       "    </tr>\n",
       "    <tr>\n",
       "      <th>...</th>\n",
       "      <td>...</td>\n",
       "      <td>...</td>\n",
       "      <td>...</td>\n",
       "      <td>...</td>\n",
       "      <td>...</td>\n",
       "    </tr>\n",
       "    <tr>\n",
       "      <th>0</th>\n",
       "      <td>swissRAGE</td>\n",
       "      <td>16 - 3</td>\n",
       "      <td>myRevenge</td>\n",
       "      <td>ESL Major Series Winter Season 2012</td>\n",
       "      <td>trn</td>\n",
       "    </tr>\n",
       "    <tr>\n",
       "      <th>0</th>\n",
       "      <td>Absolute Legends</td>\n",
       "      <td>16 - 9</td>\n",
       "      <td>Hawks</td>\n",
       "      <td>DreamHack Winter 2012</td>\n",
       "      <td>d2</td>\n",
       "    </tr>\n",
       "    <tr>\n",
       "      <th>0</th>\n",
       "      <td>VeryGames</td>\n",
       "      <td>16 - 3</td>\n",
       "      <td>3DMAX</td>\n",
       "      <td>DreamHack Winter 2012</td>\n",
       "      <td>nuke</td>\n",
       "    </tr>\n",
       "    <tr>\n",
       "      <th>0</th>\n",
       "      <td>VeryGames</td>\n",
       "      <td>16 - 12</td>\n",
       "      <td>Hawks</td>\n",
       "      <td>DreamHack Winter 2012</td>\n",
       "      <td>d2</td>\n",
       "    </tr>\n",
       "    <tr>\n",
       "      <th>0</th>\n",
       "      <td>Absolute Legends</td>\n",
       "      <td>16 - 8</td>\n",
       "      <td>3DMAX</td>\n",
       "      <td>DreamHack Winter 2012</td>\n",
       "      <td>mrg</td>\n",
       "    </tr>\n",
       "  </tbody>\n",
       "</table>\n",
       "<p>55005 rows × 5 columns</p>\n",
       "</div>"
      ],
      "text/plain": [
       "                   0        1          2  \\\n",
       "0                 G2    0 - 2       ENCE   \n",
       "0                BIG    1 - 2     Heroic   \n",
       "0      Natus Vincere    2 - 0        AGO   \n",
       "0           Vitality    1 - 2   Astralis   \n",
       "0        100 Thieves    2 - 0      Chaos   \n",
       "..               ...      ...        ...   \n",
       "0          swissRAGE   16 - 3  myRevenge   \n",
       "0   Absolute Legends   16 - 9      Hawks   \n",
       "0          VeryGames   16 - 3      3DMAX   \n",
       "0          VeryGames  16 - 12      Hawks   \n",
       "0   Absolute Legends   16 - 8      3DMAX   \n",
       "\n",
       "                                         3     4  \n",
       "0          ESL Pro League Season 12 Europe   bo3  \n",
       "0          ESL Pro League Season 12 Europe   bo3  \n",
       "0          ESL Pro League Season 12 Europe   bo3  \n",
       "0          ESL Pro League Season 12 Europe   bo3  \n",
       "0   ESL Pro League Season 12 North America   bo3  \n",
       "..                                     ...   ...  \n",
       "0      ESL Major Series Winter Season 2012   trn  \n",
       "0                    DreamHack Winter 2012    d2  \n",
       "0                    DreamHack Winter 2012  nuke  \n",
       "0                    DreamHack Winter 2012    d2  \n",
       "0                    DreamHack Winter 2012   mrg  \n",
       "\n",
       "[55005 rows x 5 columns]"
      ]
     },
     "execution_count": 101,
     "metadata": {},
     "output_type": "execute_result"
    }
   ],
   "source": [
    "pd.concat(results.get())"
   ]
  },
  {
   "cell_type": "code",
   "execution_count": 102,
   "metadata": {
    "ExecuteTime": {
     "end_time": "2020-09-11T01:03:18.858677Z",
     "start_time": "2020-09-11T01:03:18.712650Z"
    }
   },
   "outputs": [],
   "source": [
    "pool.terminate()"
   ]
  }
 ],
 "metadata": {
  "kernelspec": {
   "display_name": "Python 3",
   "language": "python",
   "name": "python3"
  },
  "language_info": {
   "codemirror_mode": {
    "name": "ipython",
    "version": 3
   },
   "file_extension": ".py",
   "mimetype": "text/x-python",
   "name": "python",
   "nbconvert_exporter": "python",
   "pygments_lexer": "ipython3",
   "version": "3.7.6"
  },
  "toc": {
   "base_numbering": 1,
   "nav_menu": {},
   "number_sections": true,
   "sideBar": true,
   "skip_h1_title": false,
   "title_cell": "Table of Contents",
   "title_sidebar": "Contents",
   "toc_cell": false,
   "toc_position": {},
   "toc_section_display": true,
   "toc_window_display": false
  },
  "varInspector": {
   "cols": {
    "lenName": 16,
    "lenType": 16,
    "lenVar": 40
   },
   "kernels_config": {
    "python": {
     "delete_cmd_postfix": "",
     "delete_cmd_prefix": "del ",
     "library": "var_list.py",
     "varRefreshCmd": "print(var_dic_list())"
    },
    "r": {
     "delete_cmd_postfix": ") ",
     "delete_cmd_prefix": "rm(",
     "library": "var_list.r",
     "varRefreshCmd": "cat(var_dic_list()) "
    }
   },
   "types_to_exclude": [
    "module",
    "function",
    "builtin_function_or_method",
    "instance",
    "_Feature"
   ],
   "window_display": false
  }
 },
 "nbformat": 4,
 "nbformat_minor": 2
}
