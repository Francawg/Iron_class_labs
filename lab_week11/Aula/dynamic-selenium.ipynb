{
 "cells": [
  {
   "cell_type": "markdown",
   "metadata": {},
   "source": [
    "# Scraping Dynamic Content: Selenium"
   ]
  },
  {
   "cell_type": "code",
   "execution_count": null,
   "metadata": {
    "ExecuteTime": {
     "end_time": "2020-09-06T00:13:06.268011Z",
     "start_time": "2020-09-06T00:13:06.265013Z"
    }
   },
   "outputs": [],
   "source": [
    "import pandas as pd\n",
    "from selenium import webdriver"
   ]
  },
  {
   "cell_type": "markdown",
   "metadata": {},
   "source": [
    "Install Selenium: \n",
    "\n",
    "`!pip install selenium`"
   ]
  },
  {
   "cell_type": "code",
   "execution_count": null,
   "metadata": {
    "ExecuteTime": {
     "end_time": "2020-09-06T00:18:52.944277Z",
     "start_time": "2020-09-06T00:18:35.863232Z"
    }
   },
   "outputs": [],
   "source": [
    "webdriver.Chrome()"
   ]
  },
  {
   "cell_type": "code",
   "execution_count": null,
   "metadata": {
    "ExecuteTime": {
     "end_time": "2020-09-06T00:18:52.945277Z",
     "start_time": "2020-09-06T00:18:36.425Z"
    }
   },
   "outputs": [],
   "source": [
    "chrome_path = '/Users/andreaguiar/Desktop/usr/dist/chromedriver'"
   ]
  },
  {
   "cell_type": "code",
   "execution_count": null,
   "metadata": {
    "ExecuteTime": {
     "end_time": "2020-09-06T00:20:00.645733Z",
     "start_time": "2020-09-06T00:19:55.623460Z"
    }
   },
   "outputs": [],
   "source": [
    "# open the chrome browser\n",
    "driver = webdriver.Chrome(executable_path=chrome_path)"
   ]
  },
  {
   "cell_type": "code",
   "execution_count": null,
   "metadata": {
    "ExecuteTime": {
     "end_time": "2020-09-06T00:20:04.561337Z",
     "start_time": "2020-09-06T00:20:04.506337Z"
    }
   },
   "outputs": [],
   "source": [
    "driver.close()"
   ]
  },
  {
   "cell_type": "code",
   "execution_count": null,
   "metadata": {},
   "outputs": [],
   "source": [
    "url = 'http://testing-ground.scraping.pro/login'"
   ]
  },
  {
   "cell_type": "code",
   "execution_count": null,
   "metadata": {
    "ExecuteTime": {
     "end_time": "2020-06-23T19:49:09.344832Z",
     "start_time": "2020-06-23T19:49:02.807413Z"
    }
   },
   "outputs": [],
   "source": [
    "# open the chrome browser\n",
    "driver = webdriver.Chrome(executable_path=chrome_path)\n",
    "\n",
    "# navigate to webpage\n",
    "driver.get(url)"
   ]
  },
  {
   "cell_type": "code",
   "execution_count": null,
   "metadata": {
    "ExecuteTime": {
     "end_time": "2020-06-23T19:50:50.056650Z",
     "start_time": "2020-06-23T19:50:50.045656Z"
    }
   },
   "outputs": [],
   "source": [
    "driver.current_url"
   ]
  },
  {
   "cell_type": "code",
   "execution_count": null,
   "metadata": {
    "ExecuteTime": {
     "end_time": "2020-06-23T19:51:05.682779Z",
     "start_time": "2020-06-23T19:51:05.085129Z"
    }
   },
   "outputs": [],
   "source": [
    "driver.get(\"https://www.google.com\")\n",
    "driver.current_url"
   ]
  },
  {
   "cell_type": "code",
   "execution_count": null,
   "metadata": {
    "ExecuteTime": {
     "end_time": "2020-06-23T19:51:21.753952Z",
     "start_time": "2020-06-23T19:51:21.252293Z"
    }
   },
   "outputs": [],
   "source": [
    "driver.get(\"http://testing-ground.scraping.pro/login\")"
   ]
  },
  {
   "cell_type": "code",
   "execution_count": null,
   "metadata": {
    "ExecuteTime": {
     "end_time": "2020-06-23T19:54:58.898292Z",
     "start_time": "2020-06-23T19:54:58.886323Z"
    }
   },
   "outputs": [],
   "source": [
    "elem = driver.find_element_by_id('usr')"
   ]
  },
  {
   "cell_type": "code",
   "execution_count": null,
   "metadata": {
    "ExecuteTime": {
     "end_time": "2020-06-23T19:55:10.593222Z",
     "start_time": "2020-06-23T19:55:10.558288Z"
    }
   },
   "outputs": [],
   "source": [
    "elem.send_keys('admin')"
   ]
  },
  {
   "cell_type": "code",
   "execution_count": null,
   "metadata": {
    "ExecuteTime": {
     "end_time": "2020-06-23T19:55:02.741931Z",
     "start_time": "2020-06-23T19:55:02.726971Z"
    }
   },
   "outputs": [],
   "source": [
    "elem.clear()"
   ]
  },
  {
   "cell_type": "code",
   "execution_count": null,
   "metadata": {
    "ExecuteTime": {
     "end_time": "2020-03-20T20:00:14.881792Z",
     "start_time": "2020-03-20T20:00:14.860828Z"
    }
   },
   "outputs": [],
   "source": [
    "# selecting elements by\n",
    "elem = driver.find_element_by_id('usr')\n",
    "elem = driver.find_element_by_name('usr')\n",
    "elem = driver.find_element_by_xpath('/html/body/div[2]/div[2]/form/input[1]')"
   ]
  },
  {
   "cell_type": "code",
   "execution_count": null,
   "metadata": {
    "ExecuteTime": {
     "end_time": "2020-06-23T19:58:20.383259Z",
     "start_time": "2020-06-23T19:58:20.347355Z"
    }
   },
   "outputs": [],
   "source": [
    "elem.send_keys('admin')"
   ]
  },
  {
   "cell_type": "code",
   "execution_count": null,
   "metadata": {
    "ExecuteTime": {
     "end_time": "2020-06-23T19:58:13.566345Z",
     "start_time": "2020-06-23T19:58:13.541371Z"
    }
   },
   "outputs": [],
   "source": [
    "from selenium.webdriver.common.keys import Keys\n",
    "elem.send_keys(Keys.BACKSPACE)"
   ]
  },
  {
   "cell_type": "code",
   "execution_count": null,
   "metadata": {
    "ExecuteTime": {
     "end_time": "2020-06-23T19:58:37.775461Z",
     "start_time": "2020-06-23T19:58:37.760501Z"
    }
   },
   "outputs": [],
   "source": [
    "elem = driver.find_element_by_id('pwd')"
   ]
  },
  {
   "cell_type": "code",
   "execution_count": null,
   "metadata": {
    "ExecuteTime": {
     "end_time": "2020-06-23T19:58:42.421894Z",
     "start_time": "2020-06-23T19:58:42.384992Z"
    }
   },
   "outputs": [],
   "source": [
    "elem.send_keys('12345')"
   ]
  },
  {
   "cell_type": "code",
   "execution_count": null,
   "metadata": {
    "ExecuteTime": {
     "end_time": "2020-06-23T19:58:56.994383Z",
     "start_time": "2020-06-23T19:58:56.310640Z"
    }
   },
   "outputs": [],
   "source": [
    "elem.send_keys(Keys.RETURN)"
   ]
  },
  {
   "cell_type": "code",
   "execution_count": null,
   "metadata": {
    "ExecuteTime": {
     "end_time": "2020-06-23T20:00:11.718980Z",
     "start_time": "2020-06-23T20:00:11.705012Z"
    }
   },
   "outputs": [],
   "source": [
    "button = driver.find_element_by_xpath('/html/body/div[2]/div[2]/form/input[3]')\n",
    "button.submit()"
   ]
  },
  {
   "cell_type": "code",
   "execution_count": null,
   "metadata": {},
   "outputs": [],
   "source": []
  },
  {
   "cell_type": "code",
   "execution_count": null,
   "metadata": {
    "ExecuteTime": {
     "end_time": "2020-06-23T20:01:24.852916Z",
     "start_time": "2020-06-23T20:01:24.840919Z"
    }
   },
   "outputs": [],
   "source": [
    "elem = driver.find_element_by_tag_name('h3')"
   ]
  },
  {
   "cell_type": "code",
   "execution_count": null,
   "metadata": {
    "ExecuteTime": {
     "end_time": "2020-06-23T20:01:25.297841Z",
     "start_time": "2020-06-23T20:01:25.282854Z"
    }
   },
   "outputs": [],
   "source": [
    "elem.text"
   ]
  },
  {
   "cell_type": "code",
   "execution_count": null,
   "metadata": {
    "ExecuteTime": {
     "end_time": "2020-06-23T20:02:28.199555Z",
     "start_time": "2020-06-23T20:02:21.492270Z"
    }
   },
   "outputs": [],
   "source": [
    "# open the chrome browser\n",
    "driver = webdriver.Chrome(executable_path=chrome_path)\n",
    "\n",
    "# navigate to webpage\n",
    "driver.get(\"http://testing-ground.scraping.pro/login\")\n",
    "\n",
    "elem = driver.find_element_by_id('usr')\n",
    "elem.send_keys('admin')\n",
    "\n",
    "elem = driver.find_element_by_id('pwd')\n",
    "elem.send_keys('12345')\n",
    "\n",
    "# press enter\n",
    "elem.send_keys(Keys.RETURN)\n",
    "\n",
    "driver.find_element_by_tag_name('h3').text"
   ]
  },
  {
   "cell_type": "code",
   "execution_count": null,
   "metadata": {
    "ExecuteTime": {
     "end_time": "2020-06-23T20:03:07.469798Z",
     "start_time": "2020-06-23T20:03:00.543705Z"
    }
   },
   "outputs": [],
   "source": [
    "# open the chrome browser\n",
    "driver = webdriver.Chrome(executable_path=chrome_path)\n",
    "\n",
    "# navigate to webpage\n",
    "driver.get(\"http://testing-ground.scraping.pro/login\")\n",
    "\n",
    "elem = driver.find_element_by_id('usr')\n",
    "elem.send_keys('admin')\n",
    "\n",
    "elem = driver.find_element_by_id('pwd')\n",
    "elem.send_keys('12345')\n",
    "\n",
    "# clicking login\n",
    "elem = driver.find_element_by_xpath('/html/body/div[2]/div[2]/form/input[3]')\n",
    "elem.click()\n",
    "\n",
    "\n",
    "driver.find_element_by_tag_name('h3').text"
   ]
  },
  {
   "cell_type": "code",
   "execution_count": null,
   "metadata": {
    "ExecuteTime": {
     "end_time": "2020-06-23T20:03:28.502488Z",
     "start_time": "2020-06-23T20:03:28.493536Z"
    },
    "scrolled": true
   },
   "outputs": [],
   "source": [
    "driver.page_source"
   ]
  },
  {
   "cell_type": "code",
   "execution_count": null,
   "metadata": {
    "ExecuteTime": {
     "end_time": "2020-06-23T20:03:51.972212Z",
     "start_time": "2020-06-23T20:03:49.815487Z"
    }
   },
   "outputs": [],
   "source": [
    "from bs4 import BeautifulSoup\n",
    "\n",
    "soup = BeautifulSoup(driver.page_source)"
   ]
  },
  {
   "cell_type": "code",
   "execution_count": null,
   "metadata": {
    "ExecuteTime": {
     "end_time": "2020-06-23T20:03:56.752643Z",
     "start_time": "2020-06-23T20:03:56.747655Z"
    }
   },
   "outputs": [],
   "source": [
    "soup.find('h3').text"
   ]
  },
  {
   "cell_type": "markdown",
   "metadata": {},
   "source": [
    "# Interactive content\n",
    "\n",
    "## Forms"
   ]
  },
  {
   "cell_type": "code",
   "execution_count": null,
   "metadata": {
    "ExecuteTime": {
     "end_time": "2020-06-23T20:08:22.280186Z",
     "start_time": "2020-06-23T20:08:20.276482Z"
    }
   },
   "outputs": [],
   "source": [
    "import time\n",
    "\n",
    "time.sleep(2)"
   ]
  },
  {
   "cell_type": "code",
   "execution_count": null,
   "metadata": {
    "ExecuteTime": {
     "end_time": "2020-06-23T20:08:33.892494Z",
     "start_time": "2020-06-23T20:08:25.562191Z"
    }
   },
   "outputs": [],
   "source": [
    "# open the chrome browser\n",
    "driver = webdriver.Chrome(executable_path=chrome_path)\n",
    "\n",
    "# navigate to webpage\n",
    "driver.get(\"https://forms.gle/v1jzZRf6LTATd2eX6\")\n",
    "\n",
    "elem = driver.find_element_by_class_name('quantumWizTextinputPaperinputInput')\n",
    "time.sleep(2)\n",
    "elem.send_keys('Andre')"
   ]
  },
  {
   "cell_type": "markdown",
   "metadata": {},
   "source": [
    "## Website interaction"
   ]
  },
  {
   "cell_type": "code",
   "execution_count": null,
   "metadata": {},
   "outputs": [],
   "source": [
    "url = 'https://shopping.thinkwithgoogle.com/'"
   ]
  },
  {
   "cell_type": "code",
   "execution_count": null,
   "metadata": {},
   "outputs": [],
   "source": [
    "# xpath"
   ]
  },
  {
   "cell_type": "markdown",
   "metadata": {},
   "source": [
    "# Headless Chrome"
   ]
  },
  {
   "cell_type": "code",
   "execution_count": null,
   "metadata": {
    "ExecuteTime": {
     "end_time": "2020-09-06T00:23:36.965117Z",
     "start_time": "2020-09-06T00:23:36.962116Z"
    }
   },
   "outputs": [],
   "source": [
    "from selenium.webdriver.chrome.options import Options\n",
    "chrome_options = Options()  \n",
    "#chrome_options.add_argument(\"--headless\")\n",
    "#chrome_options.add_argument('--disable-gpu')\n",
    "#chrome_options.add_argument('--no-sandbox')\n"
   ]
  },
  {
   "cell_type": "code",
   "execution_count": null,
   "metadata": {
    "ExecuteTime": {
     "end_time": "2020-09-06T00:23:40.056230Z",
     "start_time": "2020-09-06T00:23:40.054259Z"
    }
   },
   "outputs": [],
   "source": [
    "chrome_options.headless = True"
   ]
  },
  {
   "cell_type": "code",
   "execution_count": null,
   "metadata": {
    "ExecuteTime": {
     "end_time": "2020-06-23T20:10:56.935049Z",
     "start_time": "2020-06-23T20:10:50.135739Z"
    }
   },
   "outputs": [],
   "source": [
    "# open the chrome browser\n",
    "driver = webdriver.Chrome(executable_path=chrome_path, \n",
    "                          options=chrome_options)\n",
    "\n",
    "# navigate to webpage\n"
   ]
  },
  {
   "cell_type": "markdown",
   "metadata": {},
   "source": [
    "# Timer Optimization"
   ]
  },
  {
   "cell_type": "code",
   "execution_count": null,
   "metadata": {
    "ExecuteTime": {
     "end_time": "2020-09-06T00:29:10.637547Z",
     "start_time": "2020-09-06T00:29:10.634550Z"
    }
   },
   "outputs": [],
   "source": [
    "from selenium.webdriver.common.by import By\n",
    "from selenium.webdriver.support import expected_conditions as EC\n",
    "from selenium.webdriver.support.wait import WebDriverWait\n",
    "from selenium.common.exceptions import TimeoutException"
   ]
  },
  {
   "cell_type": "code",
   "execution_count": null,
   "metadata": {
    "ExecuteTime": {
     "end_time": "2020-09-06T00:34:10.171889Z",
     "start_time": "2020-09-06T00:34:01.093996Z"
    }
   },
   "outputs": [],
   "source": [
    "driver = webdriver.Chrome() \n",
    "driver.get('https://shopping.thinkwithgoogle.com') \n",
    "try: \n",
    "    element = WebDriverWait(driver, 5).until(EC.presence_of_element_located((By.XPATH, '/html/body/si-root/div/ng-component/mat-sidenav-container/mat-sidenav-content/main/ng-component/div/div/section[1]/div/div[3]/div/si-autocomplete[2]/div/mat-form-field/div/div[1]/div/input'))) \n",
    "except TimeoutException: \n",
    "    print(\"Time out!\") "
   ]
  },
  {
   "cell_type": "code",
   "execution_count": null,
   "metadata": {
    "ExecuteTime": {
     "end_time": "2020-09-06T00:34:16.597798Z",
     "start_time": "2020-09-06T00:34:16.536799Z"
    }
   },
   "outputs": [],
   "source": [
    "element.send_keys('Iphone')"
   ]
  }
 ],
 "metadata": {
  "kernelspec": {
   "display_name": "Python 3",
   "language": "python",
   "name": "python3"
  },
  "language_info": {
   "codemirror_mode": {
    "name": "ipython",
    "version": 3
   },
   "file_extension": ".py",
   "mimetype": "text/x-python",
   "name": "python",
   "nbconvert_exporter": "python",
   "pygments_lexer": "ipython3",
   "version": "3.7.6"
  },
  "toc": {
   "base_numbering": 1,
   "nav_menu": {},
   "number_sections": true,
   "sideBar": true,
   "skip_h1_title": false,
   "title_cell": "Table of Contents",
   "title_sidebar": "Contents",
   "toc_cell": false,
   "toc_position": {},
   "toc_section_display": true,
   "toc_window_display": false
  },
  "varInspector": {
   "cols": {
    "lenName": 16,
    "lenType": 16,
    "lenVar": 40
   },
   "kernels_config": {
    "python": {
     "delete_cmd_postfix": "",
     "delete_cmd_prefix": "del ",
     "library": "var_list.py",
     "varRefreshCmd": "print(var_dic_list())"
    },
    "r": {
     "delete_cmd_postfix": ") ",
     "delete_cmd_prefix": "rm(",
     "library": "var_list.r",
     "varRefreshCmd": "cat(var_dic_list()) "
    }
   },
   "types_to_exclude": [
    "module",
    "function",
    "builtin_function_or_method",
    "instance",
    "_Feature"
   ],
   "window_display": false
  }
 },
 "nbformat": 4,
 "nbformat_minor": 2
}
