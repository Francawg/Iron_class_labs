{
 "cells": [
  {
   "cell_type": "code",
   "execution_count": 1,
   "metadata": {},
   "outputs": [
    {
     "data": {
      "text/plain": [
       "tuple"
      ]
     },
     "execution_count": 1,
     "metadata": {},
     "output_type": "execute_result"
    }
   ],
   "source": [
    "N = 3,5,4,6,8,74\n",
    "type(N)"
   ]
  },
  {
   "cell_type": "code",
   "execution_count": 2,
   "metadata": {},
   "outputs": [
    {
     "name": "stdout",
     "output_type": "stream",
     "text": [
      "os numeros sao 3\n",
      "os numeros sao 5\n",
      "os numeros sao 4\n",
      "os numeros sao 6\n",
      "os numeros sao 8\n",
      "os numeros sao 74\n"
     ]
    }
   ],
   "source": [
    "for cont in range(len(N)):\n",
    "    print(f\"os numeros sao {N[cont]}\" )"
   ]
  },
  {
   "cell_type": "code",
   "execution_count": 46,
   "metadata": {},
   "outputs": [
    {
     "name": "stdout",
     "output_type": "stream",
     "text": [
      "('Hamburguer', 'suco', 'pizza')\n"
     ]
    }
   ],
   "source": [
    "lanche = ('Hamburguer' , 'suco' , 'pizza')\n",
    "print (lanche)"
   ]
  },
  {
   "cell_type": "code",
   "execution_count": 54,
   "metadata": {},
   "outputs": [
    {
     "name": "stdout",
     "output_type": "stream",
     "text": [
      "eu vou comer Hamburguer\n",
      "eu vou comer suco\n",
      "eu vou comer pizza\n"
     ]
    }
   ],
   "source": [
    "for fome in lanche:\n",
    "    print(f'eu vou comer {fome}')\n",
    "    "
   ]
  },
  {
   "cell_type": "code",
   "execution_count": 59,
   "metadata": {},
   "outputs": [
    {
     "name": "stdout",
     "output_type": "stream",
     "text": [
      "vou comer ('Hamburguer', 0)\n",
      "vou comer ('suco', 1)\n",
      "vou comer ('pizza', 2)\n"
     ]
    }
   ],
   "source": [
    "for pos, fome in enumerate(lanche):\n",
    "    print(f'vou comer {fome,pos}')"
   ]
  },
  {
   "cell_type": "code",
   "execution_count": 63,
   "metadata": {},
   "outputs": [
    {
     "name": "stdout",
     "output_type": "stream",
     "text": [
      "[3, 4, 5, 6, 8, 74]\n"
     ]
    }
   ],
   "source": [
    "print(sorted(N)) #organanizando uma tupla"
   ]
  },
  {
   "cell_type": "code",
   "execution_count": null,
   "metadata": {},
   "outputs": [],
   "source": []
  }
 ],
 "metadata": {
  "kernelspec": {
   "display_name": "Python 3",
   "language": "python",
   "name": "python3"
  },
  "language_info": {
   "codemirror_mode": {
    "name": "ipython",
    "version": 3
   },
   "file_extension": ".py",
   "mimetype": "text/x-python",
   "name": "python",
   "nbconvert_exporter": "python",
   "pygments_lexer": "ipython3",
   "version": "3.7.6"
  }
 },
 "nbformat": 4,
 "nbformat_minor": 4
}
