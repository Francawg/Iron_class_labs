{
 "cells": [
  {
   "cell_type": "code",
   "execution_count": 1,
   "metadata": {
    "colab": {},
    "colab_type": "code",
    "id": "-LH8gSoXB4kQ"
   },
   "outputs": [],
   "source": [
    "possibles = [\"a\",\"b\",\"c\",\"d\",\"e\"]\n",
    "\n",
    "def input_resp():\n",
    "  \"\"\" Essa função pede para o usuário dar a resposta dele, podendo ser 'a' 'b' 'c' 'd' ou 'e' \"\"\"\n",
    "  \n",
    "  answer = ''\n",
    "  \n",
    "  while answer not in possibles:\n",
    "    answer = input(\"Qual a alternativa correta (a,b,c,d ou e)?\")\n",
    "  return answer"
   ]
  },
  {
   "cell_type": "code",
   "execution_count": 2,
   "metadata": {
    "colab": {},
    "colab_type": "code",
    "id": "GQWp-0SI_z0G"
   },
   "outputs": [],
   "source": [
    "\n",
    "def pergunta1():\n",
    "  print(\"Em que ordem surgiram os modelos atômicos? \\n a Thomson Dalton Rutherford Rutherford-Bohr \\n b Rutherford-Bohr Rutherford Thomson Dalton \\n c Dalton Rutherford-Bohr Thomson Rutherford \\n d Dalton Thomson Rutherford-Bohr Rutherford \\n e Dalton Thomson Rutherford Rutherford-Bohr\")\n",
    "  \n",
    "  players_answer1 = input_resp()\n",
    "  \n",
    "  if players_answer1 == 'e':\n",
    "    print('Correct answer!! Congrats')\n",
    "    return 1\n",
    "  else:\n",
    "    print('Not this time ): Try another one!')\n",
    "    return 0\n",
    "    \n",
    "x = pergunta1"
   ]
  },
  {
   "cell_type": "code",
   "execution_count": 3,
   "metadata": {
    "colab": {},
    "colab_type": "code",
    "id": "GXK2eB3LG5l3"
   },
   "outputs": [],
   "source": [
    "def pergunta2():\n",
    "  print('Qual o maior animal terrestre? \\n a Baleia Azul \\n b Dinossauro \\n c Elefante africano \\n d Tubarão Branco \\n e Girafa')\n",
    "  \n",
    "  players_answer2 = input_resp()\n",
    "\n",
    "  if players_answer2 == 'c':\n",
    "    print('Correct answer!! Congrets')\n",
    "    return 1\n",
    "  else:\n",
    "    print('Not this time ): Try another one!')\n",
    "    return 0\n",
    "\n",
    "y = pergunta2"
   ]
  },
  {
   "cell_type": "code",
   "execution_count": 4,
   "metadata": {
    "colab": {},
    "colab_type": "code",
    "id": "Yz2G-m9mIoux"
   },
   "outputs": [],
   "source": [
    "def pergunta3():\n",
    "  print('Qual o nome completo do Andre? \\n a André de Oliveira Aguilar \\n b André Ribeiro de Barros Aguiar \\n c Alexandre Aguiar \\n d André Ribeiro de Barros Aguilar \\n e André Chicleteiro')\n",
    "  \n",
    "  players_answer2 = input_resp()\n",
    "  \n",
    "  if players_answer2 == 'b' or players_answer2 == 'e':\n",
    "    print('Correct answer!! Congrets')\n",
    "    return 1\n",
    "  else:\n",
    "    print('Not this time ): Try another one!')\n",
    "    return 0\n",
    "\n",
    "\n",
    "z = pergunta3"
   ]
  },
  {
   "cell_type": "code",
   "execution_count": 5,
   "metadata": {
    "colab": {
     "base_uri": "https://localhost:8080/",
     "height": 170
    },
    "colab_type": "code",
    "id": "GXDr7lS1_4zr",
    "outputId": "980e8128-59fc-48fa-c27d-18f1abbb4731"
   },
   "outputs": [
    {
     "name": "stdout",
     "output_type": "stream",
     "text": [
      "Qual o maior animal terrestre? \n",
      " a Baleia Azul \n",
      " b Dinossauro \n",
      " c Elefante africano \n",
      " d Tubarão Branco \n",
      " e Girafa\n",
      "Qual a alternativa correta (a,b,c,d ou e)?\n",
      "Qual a alternativa correta (a,b,c,d ou e)?a\n",
      "Not this time ): Try another one!\n"
     ]
    },
    {
     "data": {
      "text/plain": [
       "0"
      ]
     },
     "execution_count": 5,
     "metadata": {},
     "output_type": "execute_result"
    }
   ],
   "source": [
    "import random \n",
    "\n",
    "x = pergunta1\n",
    "y = pergunta2\n",
    "z = pergunta3\n",
    "\n",
    "list_quest = [x,y,z]\n",
    "\n",
    "def correct_wrong():\n",
    "  points = 0\n",
    "  random_quest = random.choice(list_quest)\n",
    "  random_quest()\n",
    "\n",
    "  if random_quest == 1:\n",
    "    points = 1\n",
    "  return points\n",
    "\n",
    "correct_wrong()\n"
   ]
  },
  {
   "cell_type": "code",
   "execution_count": null,
   "metadata": {
    "colab": {
     "base_uri": "https://localhost:8080/",
     "height": 158
    },
    "colab_type": "code",
    "id": "rd5mClpZMCB3",
    "outputId": "b625a1f8-88a7-4934-8bd5-3c33680b2f75"
   },
   "outputs": [],
   "source": [
    "import random\n",
    "\n",
    "def quizz():\n",
    "\n",
    "  total_points = correct_wrong()\n",
    "\n",
    "\n",
    "  while total_points < 3:\n",
    "    quests = random.choice(list_quest)\n",
    "    quests()\n",
    "  \n",
    "quizz()\n"
   ]
  },
  {
   "cell_type": "code",
   "execution_count": null,
   "metadata": {},
   "outputs": [],
   "source": []
  }
 ],
 "metadata": {
  "colab": {
   "collapsed_sections": [],
   "name": "COD_Projeto_Jogo.ipynb",
   "provenance": []
  },
  "kernelspec": {
   "display_name": "Python 3",
   "language": "python",
   "name": "python3"
  },
  "language_info": {
   "codemirror_mode": {
    "name": "ipython",
    "version": 3
   },
   "file_extension": ".py",
   "mimetype": "text/x-python",
   "name": "python",
   "nbconvert_exporter": "python",
   "pygments_lexer": "ipython3",
   "version": "3.7.6"
  }
 },
 "nbformat": 4,
 "nbformat_minor": 1
}
