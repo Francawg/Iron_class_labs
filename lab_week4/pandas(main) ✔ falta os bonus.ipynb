{
 "cells": [
  {
   "cell_type": "markdown",
   "metadata": {
    "colab_type": "text",
    "id": "YE3unUd1OcTs"
   },
   "source": [
    "![Ironhack logo](https://i.imgur.com/1QgrNNw.png)\n",
    "\n",
    "# Lab | Introduction to Pandas\n",
    "\n",
    "## Introduction\n",
    "\n",
    "In the Introduction to Pandas lesson, we learned about the two main data structures in Pandas (Series and DataFrames), how to work with them, how to obtain them from other data structures, and how to perform basic calculations with them.\n",
    "\n",
    "The goal of this lab is to help you practice the concepts you learned in the lesson and provide you with some hands-on experience working with Pandas.\n",
    "\n",
    "## Getting Started\n",
    "\n",
    "Read the instructions for each cell and provide your answers. Make sure to test your answers in each cell and save. Jupyter Notebook should automatically save your work progress. But it's a good idea to periodically save your work manually just in case.\n",
    "\n",
    "## Resources\n",
    "\n",
    "- [Pandas Documentation](https://pandas.pydata.org/pandas-docs/stable/)\n",
    "- [Intro to Pandas Data Structures](https://pandas.pydata.org/pandas-docs/stable/dsintro.html)\n",
    "- [Descriptive Statistics for Pandas DataFrame](https://chrisalbon.com/python/data_wrangling/pandas_dataframe_descriptive_stats/)"
   ]
  },
  {
   "cell_type": "markdown",
   "metadata": {
    "colab_type": "text",
    "id": "yjGkOvNMOajh"
   },
   "source": [
    "# Introduction to Pandas\n",
    "\n",
    "Complete the following set of exercises to solidify your knowledge of Pandas fundamentals."
   ]
  },
  {
   "cell_type": "markdown",
   "metadata": {
    "colab_type": "text",
    "id": "wBPxNR9QOajj"
   },
   "source": [
    "#### 1. Import Numpy and Pandas and alias them to `np` and `pd` respectively."
   ]
  },
  {
   "cell_type": "code",
   "execution_count": 1,
   "metadata": {
    "colab": {},
    "colab_type": "code",
    "id": "iH3FotJGOajk"
   },
   "outputs": [],
   "source": [
    "# your code here\n",
    "import numpy as np\n",
    "import pandas as pd"
   ]
  },
  {
   "cell_type": "markdown",
   "metadata": {
    "colab_type": "text",
    "id": "Lx1LrDcHOajp"
   },
   "source": [
    "#### 2. Create a Pandas Series containing the elements of the list below.\n",
    "\n",
    "Expected output:\n",
    "\n",
    "````python\n",
    "            0     5.7\n",
    "            1    75.2\n",
    "            2    74.4\n",
    "            3    84.0\n",
    "            4    66.5\n",
    "            5    66.3\n",
    "            6    55.8\n",
    "            7    75.7\n",
    "            8    29.1\n",
    "            9    43.7\n",
    "            dtype: float64\n",
    "    \n",
    "````"
   ]
  },
  {
   "cell_type": "code",
   "execution_count": 30,
   "metadata": {
    "colab": {},
    "colab_type": "code",
    "id": "bx1BubQVOajq"
   },
   "outputs": [],
   "source": [
    "lst = [5.7, 75.2, 74.4, 84.0, 66.5, 66.3, 55.8, 75.7, 29.1, 43.7]"
   ]
  },
  {
   "cell_type": "code",
   "execution_count": 31,
   "metadata": {
    "colab": {},
    "colab_type": "code",
    "id": "jDIb1LZDOaju"
   },
   "outputs": [
    {
     "data": {
      "text/plain": [
       "0     5.7\n",
       "1    75.2\n",
       "2    74.4\n",
       "3    84.0\n",
       "4    66.5\n",
       "5    66.3\n",
       "6    55.8\n",
       "7    75.7\n",
       "8    29.1\n",
       "9    43.7\n",
       "dtype: float64"
      ]
     },
     "execution_count": 31,
     "metadata": {},
     "output_type": "execute_result"
    }
   ],
   "source": [
    "# your code here\n",
    "pd.Series(lst)"
   ]
  },
  {
   "cell_type": "markdown",
   "metadata": {
    "colab_type": "text",
    "id": "D5asOdE0Oajy"
   },
   "source": [
    "#### 3. Use indexing to return the third value in the Series above.\n",
    "\n",
    "*Hint: Remember that indexing begins at 0.*"
   ]
  },
  {
   "cell_type": "code",
   "execution_count": 32,
   "metadata": {
    "colab": {},
    "colab_type": "code",
    "id": "Nd8JObixOajz"
   },
   "outputs": [
    {
     "data": {
      "text/plain": [
       "74.4"
      ]
     },
     "execution_count": 32,
     "metadata": {},
     "output_type": "execute_result"
    }
   ],
   "source": [
    "# your code here\n",
    "lst[2]"
   ]
  },
  {
   "cell_type": "markdown",
   "metadata": {
    "colab_type": "text",
    "id": "M06z_OPLOaj3"
   },
   "source": [
    "#### 4. Create a Pandas DataFrame from the list of lists below. Each sublist should be represented as a row.\n",
    "\n",
    "Expected output:\n",
    "\n",
    "|    |    0 |    1 |    2 |    3 |    4 |\n",
    "|---:|-----:|-----:|-----:|-----:|-----:|\n",
    "|  0 | 53.1 | 95   | 67.5 | 35   | 78.4 |\n",
    "|  1 | 61.3 | 40.8 | 30.8 | 37.8 | 87.6 |\n",
    "|  2 | 20.6 | 73.2 | 44.2 | 14.6 | 91.8 |\n",
    "|  3 | 57.4 |  0.1 | 96.1 |  4.2 | 69.5 |\n",
    "|  4 | 83.6 | 20.5 | 85.4 | 22.8 | 35.9 |\n",
    "|  5 | 49   | 69   |  0.1 | 31.8 | 89.1 |\n",
    "|  6 | 23.3 | 40.7 | 95   | 83.8 | 26.9 |\n",
    "|  7 | 27.6 | 26.4 | 53.8 | 88.8 | 68.5 |\n",
    "|  8 | 96.6 | 96.4 | 53.4 | 72.4 | 50.1 |\n",
    "|  9 | 73.7 | 39   | 43.2 | 81.6 | 34.7 |"
   ]
  },
  {
   "cell_type": "code",
   "execution_count": 33,
   "metadata": {
    "colab": {},
    "colab_type": "code",
    "id": "TJ2X7jXvOaj5"
   },
   "outputs": [],
   "source": [
    "b = [[53.1, 95.0, 67.5, 35.0, 78.4],\n",
    "     [61.3, 40.8, 30.8, 37.8, 87.6],\n",
    "     [20.6, 73.2, 44.2, 14.6, 91.8],\n",
    "     [57.4, 0.1, 96.1, 4.2, 69.5],\n",
    "     [83.6, 20.5, 85.4, 22.8, 35.9],\n",
    "     [49.0, 69.0, 0.1, 31.8, 89.1],\n",
    "     [23.3, 40.7, 95.0, 83.8, 26.9],\n",
    "     [27.6, 26.4, 53.8, 88.8, 68.5],\n",
    "     [96.6, 96.4, 53.4, 72.4, 50.1],\n",
    "     [73.7, 39.0, 43.2, 81.6, 34.7]]"
   ]
  },
  {
   "cell_type": "code",
   "execution_count": 73,
   "metadata": {
    "colab": {},
    "colab_type": "code",
    "id": "uAjXmK9VOakA"
   },
   "outputs": [
    {
     "data": {
      "text/html": [
       "<div>\n",
       "<style scoped>\n",
       "    .dataframe tbody tr th:only-of-type {\n",
       "        vertical-align: middle;\n",
       "    }\n",
       "\n",
       "    .dataframe tbody tr th {\n",
       "        vertical-align: top;\n",
       "    }\n",
       "\n",
       "    .dataframe thead th {\n",
       "        text-align: right;\n",
       "    }\n",
       "</style>\n",
       "<table border=\"1\" class=\"dataframe\">\n",
       "  <thead>\n",
       "    <tr style=\"text-align: right;\">\n",
       "      <th></th>\n",
       "      <th>Score_1</th>\n",
       "      <th>Score_2</th>\n",
       "      <th>Score_3</th>\n",
       "      <th>Score_4</th>\n",
       "      <th>Score_5</th>\n",
       "      <th>total</th>\n",
       "    </tr>\n",
       "  </thead>\n",
       "  <tbody>\n",
       "    <tr>\n",
       "      <th>0</th>\n",
       "      <td>53.1</td>\n",
       "      <td>95.0</td>\n",
       "      <td>67.5</td>\n",
       "      <td>35.0</td>\n",
       "      <td>78.4</td>\n",
       "      <td>0</td>\n",
       "    </tr>\n",
       "    <tr>\n",
       "      <th>1</th>\n",
       "      <td>61.3</td>\n",
       "      <td>40.8</td>\n",
       "      <td>30.8</td>\n",
       "      <td>37.8</td>\n",
       "      <td>87.6</td>\n",
       "      <td>0</td>\n",
       "    </tr>\n",
       "    <tr>\n",
       "      <th>2</th>\n",
       "      <td>20.6</td>\n",
       "      <td>73.2</td>\n",
       "      <td>44.2</td>\n",
       "      <td>14.6</td>\n",
       "      <td>91.8</td>\n",
       "      <td>0</td>\n",
       "    </tr>\n",
       "    <tr>\n",
       "      <th>3</th>\n",
       "      <td>57.4</td>\n",
       "      <td>0.1</td>\n",
       "      <td>96.1</td>\n",
       "      <td>4.2</td>\n",
       "      <td>69.5</td>\n",
       "      <td>0</td>\n",
       "    </tr>\n",
       "    <tr>\n",
       "      <th>4</th>\n",
       "      <td>83.6</td>\n",
       "      <td>20.5</td>\n",
       "      <td>85.4</td>\n",
       "      <td>22.8</td>\n",
       "      <td>35.9</td>\n",
       "      <td>0</td>\n",
       "    </tr>\n",
       "    <tr>\n",
       "      <th>5</th>\n",
       "      <td>49.0</td>\n",
       "      <td>69.0</td>\n",
       "      <td>0.1</td>\n",
       "      <td>31.8</td>\n",
       "      <td>89.1</td>\n",
       "      <td>0</td>\n",
       "    </tr>\n",
       "    <tr>\n",
       "      <th>6</th>\n",
       "      <td>23.3</td>\n",
       "      <td>40.7</td>\n",
       "      <td>95.0</td>\n",
       "      <td>83.8</td>\n",
       "      <td>26.9</td>\n",
       "      <td>0</td>\n",
       "    </tr>\n",
       "    <tr>\n",
       "      <th>7</th>\n",
       "      <td>27.6</td>\n",
       "      <td>26.4</td>\n",
       "      <td>53.8</td>\n",
       "      <td>88.8</td>\n",
       "      <td>68.5</td>\n",
       "      <td>0</td>\n",
       "    </tr>\n",
       "    <tr>\n",
       "      <th>8</th>\n",
       "      <td>96.6</td>\n",
       "      <td>96.4</td>\n",
       "      <td>53.4</td>\n",
       "      <td>72.4</td>\n",
       "      <td>50.1</td>\n",
       "      <td>0</td>\n",
       "    </tr>\n",
       "    <tr>\n",
       "      <th>9</th>\n",
       "      <td>73.7</td>\n",
       "      <td>39.0</td>\n",
       "      <td>43.2</td>\n",
       "      <td>81.6</td>\n",
       "      <td>34.7</td>\n",
       "      <td>0</td>\n",
       "    </tr>\n",
       "  </tbody>\n",
       "</table>\n",
       "</div>"
      ],
      "text/plain": [
       "   Score_1  Score_2  Score_3  Score_4  Score_5  total\n",
       "0     53.1     95.0     67.5     35.0     78.4      0\n",
       "1     61.3     40.8     30.8     37.8     87.6      0\n",
       "2     20.6     73.2     44.2     14.6     91.8      0\n",
       "3     57.4      0.1     96.1      4.2     69.5      0\n",
       "4     83.6     20.5     85.4     22.8     35.9      0\n",
       "5     49.0     69.0      0.1     31.8     89.1      0\n",
       "6     23.3     40.7     95.0     83.8     26.9      0\n",
       "7     27.6     26.4     53.8     88.8     68.5      0\n",
       "8     96.6     96.4     53.4     72.4     50.1      0\n",
       "9     73.7     39.0     43.2     81.6     34.7      0"
      ]
     },
     "execution_count": 73,
     "metadata": {},
     "output_type": "execute_result"
    }
   ],
   "source": [
    "# your code here\n",
    "pd.DataFrame(b)"
   ]
  },
  {
   "cell_type": "markdown",
   "metadata": {
    "colab_type": "text",
    "id": "unMpXDeYOakG"
   },
   "source": [
    "#### 5. Rename the data frame columns based on the names in the list below.\n",
    "\n",
    "Expected output:\n",
    "\n",
    "|    |   Score_1 |   Score_2 |   Score_3 |   Score_4 |   Score_5 |\n",
    "|---:|----------:|----------:|----------:|----------:|----------:|\n",
    "|  0 |      53.1 |      95   |      67.5 |      35   |      78.4 |\n",
    "|  1 |      61.3 |      40.8 |      30.8 |      37.8 |      87.6 |\n",
    "|  2 |      20.6 |      73.2 |      44.2 |      14.6 |      91.8 |\n",
    "|  3 |      57.4 |       0.1 |      96.1 |       4.2 |      69.5 |\n",
    "|  4 |      83.6 |      20.5 |      85.4 |      22.8 |      35.9 |\n",
    "|  5 |      49   |      69   |       0.1 |      31.8 |      89.1 |\n",
    "|  6 |      23.3 |      40.7 |      95   |      83.8 |      26.9 |\n",
    "|  7 |      27.6 |      26.4 |      53.8 |      88.8 |      68.5 |\n",
    "|  8 |      96.6 |      96.4 |      53.4 |      72.4 |      50.1 |\n",
    "|  9 |      73.7 |      39   |      43.2 |      81.6 |      34.7 |"
   ]
  },
  {
   "cell_type": "code",
   "execution_count": 74,
   "metadata": {
    "colab": {},
    "colab_type": "code",
    "id": "CR6Od3jCOakH"
   },
   "outputs": [],
   "source": [
    "colnames = ['Score_1', 'Score_2', 'Score_3', 'Score_4', 'Score_5']"
   ]
  },
  {
   "cell_type": "code",
   "execution_count": 75,
   "metadata": {
    "colab": {},
    "colab_type": "code",
    "id": "4IGnjLB_OakL"
   },
   "outputs": [],
   "source": [
    "# your code here\n",
    "b = pd.DataFrame(b,columns=colnames)"
   ]
  },
  {
   "cell_type": "markdown",
   "metadata": {
    "colab_type": "text",
    "id": "BSSlC9sHOakQ"
   },
   "source": [
    "#### 6. Create a subset of this data frame that contains only the Score 1, 3, and 5 columns.\n",
    "\n",
    "Expected output:\n",
    "\n",
    "|    |   Score_1 |   Score_3 |   Score_5 |\n",
    "|---:|----------:|----------:|----------:|\n",
    "|  0 |      53.1 |      67.5 |      78.4 |\n",
    "|  1 |      61.3 |      30.8 |      87.6 |\n",
    "|  2 |      20.6 |      44.2 |      91.8 |\n",
    "|  3 |      57.4 |      96.1 |      69.5 |\n",
    "|  4 |      83.6 |      85.4 |      35.9 |\n",
    "|  5 |      49   |       0.1 |      89.1 |\n",
    "|  6 |      23.3 |      95   |      26.9 |\n",
    "|  7 |      27.6 |      53.8 |      68.5 |\n",
    "|  8 |      96.6 |      53.4 |      50.1 |\n",
    "|  9 |      73.7 |      43.2 |      34.7 |"
   ]
  },
  {
   "cell_type": "code",
   "execution_count": 76,
   "metadata": {
    "colab": {},
    "colab_type": "code",
    "id": "vAyr7_cpOakR"
   },
   "outputs": [
    {
     "data": {
      "text/html": [
       "<div>\n",
       "<style scoped>\n",
       "    .dataframe tbody tr th:only-of-type {\n",
       "        vertical-align: middle;\n",
       "    }\n",
       "\n",
       "    .dataframe tbody tr th {\n",
       "        vertical-align: top;\n",
       "    }\n",
       "\n",
       "    .dataframe thead th {\n",
       "        text-align: right;\n",
       "    }\n",
       "</style>\n",
       "<table border=\"1\" class=\"dataframe\">\n",
       "  <thead>\n",
       "    <tr style=\"text-align: right;\">\n",
       "      <th></th>\n",
       "      <th>Score_1</th>\n",
       "      <th>Score_3</th>\n",
       "      <th>Score_5</th>\n",
       "    </tr>\n",
       "  </thead>\n",
       "  <tbody>\n",
       "    <tr>\n",
       "      <th>0</th>\n",
       "      <td>53.1</td>\n",
       "      <td>67.5</td>\n",
       "      <td>78.4</td>\n",
       "    </tr>\n",
       "    <tr>\n",
       "      <th>1</th>\n",
       "      <td>61.3</td>\n",
       "      <td>30.8</td>\n",
       "      <td>87.6</td>\n",
       "    </tr>\n",
       "    <tr>\n",
       "      <th>2</th>\n",
       "      <td>20.6</td>\n",
       "      <td>44.2</td>\n",
       "      <td>91.8</td>\n",
       "    </tr>\n",
       "    <tr>\n",
       "      <th>3</th>\n",
       "      <td>57.4</td>\n",
       "      <td>96.1</td>\n",
       "      <td>69.5</td>\n",
       "    </tr>\n",
       "    <tr>\n",
       "      <th>4</th>\n",
       "      <td>83.6</td>\n",
       "      <td>85.4</td>\n",
       "      <td>35.9</td>\n",
       "    </tr>\n",
       "    <tr>\n",
       "      <th>5</th>\n",
       "      <td>49.0</td>\n",
       "      <td>0.1</td>\n",
       "      <td>89.1</td>\n",
       "    </tr>\n",
       "    <tr>\n",
       "      <th>6</th>\n",
       "      <td>23.3</td>\n",
       "      <td>95.0</td>\n",
       "      <td>26.9</td>\n",
       "    </tr>\n",
       "    <tr>\n",
       "      <th>7</th>\n",
       "      <td>27.6</td>\n",
       "      <td>53.8</td>\n",
       "      <td>68.5</td>\n",
       "    </tr>\n",
       "    <tr>\n",
       "      <th>8</th>\n",
       "      <td>96.6</td>\n",
       "      <td>53.4</td>\n",
       "      <td>50.1</td>\n",
       "    </tr>\n",
       "    <tr>\n",
       "      <th>9</th>\n",
       "      <td>73.7</td>\n",
       "      <td>43.2</td>\n",
       "      <td>34.7</td>\n",
       "    </tr>\n",
       "  </tbody>\n",
       "</table>\n",
       "</div>"
      ],
      "text/plain": [
       "   Score_1  Score_3  Score_5\n",
       "0     53.1     67.5     78.4\n",
       "1     61.3     30.8     87.6\n",
       "2     20.6     44.2     91.8\n",
       "3     57.4     96.1     69.5\n",
       "4     83.6     85.4     35.9\n",
       "5     49.0      0.1     89.1\n",
       "6     23.3     95.0     26.9\n",
       "7     27.6     53.8     68.5\n",
       "8     96.6     53.4     50.1\n",
       "9     73.7     43.2     34.7"
      ]
     },
     "execution_count": 76,
     "metadata": {},
     "output_type": "execute_result"
    }
   ],
   "source": [
    "# your code here\n",
    "b.loc[:,['Score_1','Score_3','Score_5']]"
   ]
  },
  {
   "cell_type": "markdown",
   "metadata": {
    "colab_type": "text",
    "id": "miFKTP45OakV"
   },
   "source": [
    "#### 7. From the original data frame, calculate the average Score_3 value.\n",
    "\n",
    "Expected output:\n",
    "\n",
    "````python\n",
    "            56.95\n",
    "````"
   ]
  },
  {
   "cell_type": "code",
   "execution_count": 77,
   "metadata": {
    "colab": {},
    "colab_type": "code",
    "id": "MtfW8kfjOakW"
   },
   "outputs": [
    {
     "data": {
      "text/plain": [
       "56.95000000000001"
      ]
     },
     "execution_count": 77,
     "metadata": {},
     "output_type": "execute_result"
    }
   ],
   "source": [
    "# your code here\n",
    "b['Score_3'].mean()"
   ]
  },
  {
   "cell_type": "markdown",
   "metadata": {
    "colab_type": "text",
    "id": "6_0HFCAMOakb"
   },
   "source": [
    "#### 8. From the original data frame, calculate the maximum Score_4 value.\n",
    "\n",
    "Expected output:\n",
    "\n",
    "````python\n",
    "            88.8\n",
    "````"
   ]
  },
  {
   "cell_type": "code",
   "execution_count": 78,
   "metadata": {
    "colab": {},
    "colab_type": "code",
    "id": "nafpPRIaOakc"
   },
   "outputs": [
    {
     "data": {
      "text/plain": [
       "88.8"
      ]
     },
     "execution_count": 78,
     "metadata": {},
     "output_type": "execute_result"
    }
   ],
   "source": [
    "# your code here\n",
    "b['Score_4'].max()"
   ]
  },
  {
   "cell_type": "markdown",
   "metadata": {
    "colab_type": "text",
    "id": "hEBEuc8NOakg"
   },
   "source": [
    "#### 9. From the original data frame, calculate the median Score 2 value.\n",
    "\n",
    "Expected output:\n",
    "\n",
    "````python\n",
    "            40.75\n",
    "````"
   ]
  },
  {
   "cell_type": "code",
   "execution_count": 79,
   "metadata": {
    "colab": {},
    "colab_type": "code",
    "id": "zn1IpKxuOakh"
   },
   "outputs": [
    {
     "data": {
      "text/plain": [
       "40.75"
      ]
     },
     "execution_count": 79,
     "metadata": {},
     "output_type": "execute_result"
    }
   ],
   "source": [
    "# your code here \n",
    "b.Score_2.median()"
   ]
  },
  {
   "cell_type": "markdown",
   "metadata": {
    "colab_type": "text",
    "id": "LxoUIsIBOakl"
   },
   "source": [
    "#### 10. Create a Pandas DataFrame from the dictionary of product orders below.\n",
    "\n",
    "Expected output:\n",
    "\n",
    "|    | Description                       |   Quantity |   UnitPrice |   Revenue |\n",
    "|---:|:----------------------------------|-----------:|------------:|----------:|\n",
    "|  0 | LUNCH BAG APPLE DESIGN            |          1 |        1.65 |      1.65 |\n",
    "|  1 | SET OF 60 VINTAGE LEAF CAKE CASES |         24 |        0.55 |     13.2  |\n",
    "|  2 | RIBBON REEL STRIPES DESIGN        |          1 |        1.65 |      1.65 |\n",
    "|  3 | WORLD WAR 2 GLIDERS ASSTD DESIGNS |       2880 |        0.18 |    518.4  |\n",
    "|  4 | PLAYING CARDS JUBILEE UNION JACK  |          2 |        1.25 |      2.5  |\n",
    "|  5 | POPCORN HOLDER                    |          7 |        0.85 |      5.95 |\n",
    "|  6 | BOX OF VINTAGE ALPHABET BLOCKS    |          1 |       11.95 |     11.95 |\n",
    "|  7 | PARTY BUNTING                     |          4 |        4.95 |     19.8  |\n",
    "|  8 | JAZZ HEARTS ADDRESS BOOK          |         10 |        0.19 |      1.9  |\n",
    "|  9 | SET OF 4 SANTA PLACE SETTINGS     |         48 |        1.25 |     60    |"
   ]
  },
  {
   "cell_type": "code",
   "execution_count": 100,
   "metadata": {
    "colab": {},
    "colab_type": "code",
    "id": "-w5XVN-aOakl"
   },
   "outputs": [],
   "source": [
    "orders = {'Description': ['LUNCH BAG APPLE DESIGN',\n",
    "  'SET OF 60 VINTAGE LEAF CAKE CASES ',\n",
    "  'RIBBON REEL STRIPES DESIGN ',\n",
    "  'WORLD WAR 2 GLIDERS ASSTD DESIGNS',\n",
    "  'PLAYING CARDS JUBILEE UNION JACK',\n",
    "  'POPCORN HOLDER',\n",
    "  'BOX OF VINTAGE ALPHABET BLOCKS',\n",
    "  'PARTY BUNTING',\n",
    "  'JAZZ HEARTS ADDRESS BOOK',\n",
    "  'SET OF 4 SANTA PLACE SETTINGS'],\n",
    " 'Quantity': [1, 24, 1, 2880, 2, 7, 1, 4, 10, 48],\n",
    " 'UnitPrice': [1.65, 0.55, 1.65, 0.18, 1.25, 0.85, 11.95, 4.95, 0.19, 1.25],\n",
    " 'Revenue': [1.65, 13.2, 1.65, 518.4, 2.5, 5.95, 11.95, 19.8, 1.9, 60.0]}"
   ]
  },
  {
   "cell_type": "code",
   "execution_count": 132,
   "metadata": {
    "colab": {},
    "colab_type": "code",
    "id": "EBy90Me3Oakp"
   },
   "outputs": [
    {
     "data": {
      "text/html": [
       "<div>\n",
       "<style scoped>\n",
       "    .dataframe tbody tr th:only-of-type {\n",
       "        vertical-align: middle;\n",
       "    }\n",
       "\n",
       "    .dataframe tbody tr th {\n",
       "        vertical-align: top;\n",
       "    }\n",
       "\n",
       "    .dataframe thead th {\n",
       "        text-align: right;\n",
       "    }\n",
       "</style>\n",
       "<table border=\"1\" class=\"dataframe\">\n",
       "  <thead>\n",
       "    <tr style=\"text-align: right;\">\n",
       "      <th></th>\n",
       "      <th>Description</th>\n",
       "      <th>Quantity</th>\n",
       "      <th>UnitPrice</th>\n",
       "      <th>Revenue</th>\n",
       "    </tr>\n",
       "  </thead>\n",
       "  <tbody>\n",
       "    <tr>\n",
       "      <th>0</th>\n",
       "      <td>LUNCH BAG APPLE DESIGN</td>\n",
       "      <td>1</td>\n",
       "      <td>1.65</td>\n",
       "      <td>1.65</td>\n",
       "    </tr>\n",
       "    <tr>\n",
       "      <th>1</th>\n",
       "      <td>SET OF 60 VINTAGE LEAF CAKE CASES</td>\n",
       "      <td>24</td>\n",
       "      <td>0.55</td>\n",
       "      <td>13.20</td>\n",
       "    </tr>\n",
       "    <tr>\n",
       "      <th>2</th>\n",
       "      <td>RIBBON REEL STRIPES DESIGN</td>\n",
       "      <td>1</td>\n",
       "      <td>1.65</td>\n",
       "      <td>1.65</td>\n",
       "    </tr>\n",
       "    <tr>\n",
       "      <th>3</th>\n",
       "      <td>WORLD WAR 2 GLIDERS ASSTD DESIGNS</td>\n",
       "      <td>2880</td>\n",
       "      <td>0.18</td>\n",
       "      <td>518.40</td>\n",
       "    </tr>\n",
       "    <tr>\n",
       "      <th>4</th>\n",
       "      <td>PLAYING CARDS JUBILEE UNION JACK</td>\n",
       "      <td>2</td>\n",
       "      <td>1.25</td>\n",
       "      <td>2.50</td>\n",
       "    </tr>\n",
       "    <tr>\n",
       "      <th>5</th>\n",
       "      <td>POPCORN HOLDER</td>\n",
       "      <td>7</td>\n",
       "      <td>0.85</td>\n",
       "      <td>5.95</td>\n",
       "    </tr>\n",
       "    <tr>\n",
       "      <th>6</th>\n",
       "      <td>BOX OF VINTAGE ALPHABET BLOCKS</td>\n",
       "      <td>1</td>\n",
       "      <td>11.95</td>\n",
       "      <td>11.95</td>\n",
       "    </tr>\n",
       "    <tr>\n",
       "      <th>7</th>\n",
       "      <td>PARTY BUNTING</td>\n",
       "      <td>4</td>\n",
       "      <td>4.95</td>\n",
       "      <td>19.80</td>\n",
       "    </tr>\n",
       "    <tr>\n",
       "      <th>8</th>\n",
       "      <td>JAZZ HEARTS ADDRESS BOOK</td>\n",
       "      <td>10</td>\n",
       "      <td>0.19</td>\n",
       "      <td>1.90</td>\n",
       "    </tr>\n",
       "    <tr>\n",
       "      <th>9</th>\n",
       "      <td>SET OF 4 SANTA PLACE SETTINGS</td>\n",
       "      <td>48</td>\n",
       "      <td>1.25</td>\n",
       "      <td>60.00</td>\n",
       "    </tr>\n",
       "  </tbody>\n",
       "</table>\n",
       "</div>"
      ],
      "text/plain": [
       "                          Description  Quantity  UnitPrice  Revenue\n",
       "0              LUNCH BAG APPLE DESIGN         1       1.65     1.65\n",
       "1  SET OF 60 VINTAGE LEAF CAKE CASES         24       0.55    13.20\n",
       "2         RIBBON REEL STRIPES DESIGN          1       1.65     1.65\n",
       "3   WORLD WAR 2 GLIDERS ASSTD DESIGNS      2880       0.18   518.40\n",
       "4    PLAYING CARDS JUBILEE UNION JACK         2       1.25     2.50\n",
       "5                      POPCORN HOLDER         7       0.85     5.95\n",
       "6      BOX OF VINTAGE ALPHABET BLOCKS         1      11.95    11.95\n",
       "7                       PARTY BUNTING         4       4.95    19.80\n",
       "8            JAZZ HEARTS ADDRESS BOOK        10       0.19     1.90\n",
       "9       SET OF 4 SANTA PLACE SETTINGS        48       1.25    60.00"
      ]
     },
     "execution_count": 132,
     "metadata": {},
     "output_type": "execute_result"
    }
   ],
   "source": [
    "# your code here\n",
    "orders = pd.DataFrame(data = orders)\n",
    "orders"
   ]
  },
  {
   "cell_type": "code",
   "execution_count": 131,
   "metadata": {},
   "outputs": [
    {
     "data": {
      "text/plain": [
       "2978"
      ]
     },
     "execution_count": 131,
     "metadata": {},
     "output_type": "execute_result"
    }
   ],
   "source": []
  },
  {
   "cell_type": "markdown",
   "metadata": {
    "colab_type": "text",
    "id": "9ssXX6XPOakt"
   },
   "source": [
    "#### 11. Calculate the total quantity ordered and revenue generated from these orders.\n",
    "\n",
    "Expected output:\n",
    "\n",
    "````python\n",
    "            Quantity    2978.0\n",
    "            Revenue      637.0\n",
    "````"
   ]
  },
  {
   "cell_type": "code",
   "execution_count": 147,
   "metadata": {},
   "outputs": [
    {
     "data": {
      "text/plain": [
       "2978"
      ]
     },
     "execution_count": 147,
     "metadata": {},
     "output_type": "execute_result"
    }
   ],
   "source": [
    "orders['Quantity'].sum()"
   ]
  },
  {
   "cell_type": "code",
   "execution_count": 146,
   "metadata": {
    "colab": {},
    "colab_type": "code",
    "id": "YitrlNafOaku"
   },
   "outputs": [
    {
     "data": {
      "text/plain": [
       "637.0"
      ]
     },
     "execution_count": 146,
     "metadata": {},
     "output_type": "execute_result"
    }
   ],
   "source": [
    "# your code here\n",
    "orders['Revenue'].sum()"
   ]
  },
  {
   "cell_type": "markdown",
   "metadata": {
    "colab_type": "text",
    "id": "GlSWl9TZOakz"
   },
   "source": [
    "#### 12. Obtain the prices of the most expensive and least expensive items ordered and print the difference.\n",
    "Expected output:\n",
    "\n",
    "````python\n",
    "            Most expensive:  11.95\n",
    "            Least expensive:  0.18\n",
    "            Difference:  11.77\n",
    "````"
   ]
  },
  {
   "cell_type": "code",
   "execution_count": 211,
   "metadata": {},
   "outputs": [
    {
     "name": "stdout",
     "output_type": "stream",
     "text": [
      "Most expensive: 11.95\n",
      "Least Expensive: 0.18\n",
      "Difference: 11.77\n"
     ]
    }
   ],
   "source": [
    "print(f'Most expensive: {orders.UnitPrice.max()}\\nLeast Expensive: {orders.UnitPrice.min()}\\nDifference: {orders.UnitPrice.max() - orders.UnitPrice.min() }')"
   ]
  },
  {
   "cell_type": "code",
   "execution_count": 213,
   "metadata": {
    "colab": {},
    "colab_type": "code",
    "id": "c1r8EZT6Oak0"
   },
   "outputs": [
    {
     "data": {
      "text/html": [
       "<div>\n",
       "<style scoped>\n",
       "    .dataframe tbody tr th:only-of-type {\n",
       "        vertical-align: middle;\n",
       "    }\n",
       "\n",
       "    .dataframe tbody tr th {\n",
       "        vertical-align: top;\n",
       "    }\n",
       "\n",
       "    .dataframe thead th {\n",
       "        text-align: right;\n",
       "    }\n",
       "</style>\n",
       "<table border=\"1\" class=\"dataframe\">\n",
       "  <thead>\n",
       "    <tr style=\"text-align: right;\">\n",
       "      <th></th>\n",
       "      <th>Description</th>\n",
       "      <th>UnitPrice</th>\n",
       "    </tr>\n",
       "  </thead>\n",
       "  <tbody>\n",
       "    <tr>\n",
       "      <th>6</th>\n",
       "      <td>BOX OF VINTAGE ALPHABET BLOCKS</td>\n",
       "      <td>11.95</td>\n",
       "    </tr>\n",
       "    <tr>\n",
       "      <th>3</th>\n",
       "      <td>WORLD WAR 2 GLIDERS ASSTD DESIGNS</td>\n",
       "      <td>0.18</td>\n",
       "    </tr>\n",
       "  </tbody>\n",
       "</table>\n",
       "</div>"
      ],
      "text/plain": [
       "                         Description  UnitPrice\n",
       "6     BOX OF VINTAGE ALPHABET BLOCKS      11.95\n",
       "3  WORLD WAR 2 GLIDERS ASSTD DESIGNS       0.18"
      ]
     },
     "execution_count": 213,
     "metadata": {},
     "output_type": "execute_result"
    }
   ],
   "source": [
    "# your code here\n",
    "orders.iloc[[6,3],[0,2]]"
   ]
  },
  {
   "cell_type": "code",
   "execution_count": 215,
   "metadata": {
    "scrolled": true
   },
   "outputs": [
    {
     "data": {
      "text/plain": [
       "11.77"
      ]
     },
     "execution_count": 215,
     "metadata": {},
     "output_type": "execute_result"
    }
   ],
   "source": [
    "orders.iloc[6,2] - orders.iloc[3,2]"
   ]
  },
  {
   "cell_type": "markdown",
   "metadata": {
    "colab_type": "text",
    "id": "RweZ9QLBOak3"
   },
   "source": [
    "# BONUS"
   ]
  },
  {
   "cell_type": "markdown",
   "metadata": {
    "colab_type": "text",
    "id": "1w9-ZnH6Oak4"
   },
   "source": [
    "#### 1 Create a random dataframe containing 3 columns and 10 rows. \n",
    "\n",
    "*Hint: You'll have to use a `numpy.random` method to create random observations*\n",
    "\n",
    "**Example of output:**\n",
    "\n",
    "|    |         0 |        1 |        2 |\n",
    "|---:|----------:|---------:|---------:|\n",
    "|  0 | 0.0883504 | 0.867054 | 0.977949 |\n",
    "|  1 | 0.819555  | 0.643927 | 0.122975 |\n",
    "|  2 | 0.484618  | 0.515125 | 0.807791 |\n",
    "|  3 | 0.539583  | 0.620799 | 0.926963 |\n",
    "|  4 | 0.0479896 | 0.772282 | 0.621921 |\n",
    "|  5 | 0.1398    | 0.767678 | 0.678816 |\n",
    "|  6 | 0.0895157 | 0.242867 | 0.887941 |\n",
    "|  7 | 0.160186  | 0.750576 | 0.439416 |\n",
    "|  8 | 0.982747  | 0.652903 | 0.575518 |\n",
    "|  9 | 0.646373  | 0.523237 | 0.700222 |"
   ]
  },
  {
   "cell_type": "code",
   "execution_count": 45,
   "metadata": {},
   "outputs": [
    {
     "data": {
      "text/html": [
       "<div>\n",
       "<style scoped>\n",
       "    .dataframe tbody tr th:only-of-type {\n",
       "        vertical-align: middle;\n",
       "    }\n",
       "\n",
       "    .dataframe tbody tr th {\n",
       "        vertical-align: top;\n",
       "    }\n",
       "\n",
       "    .dataframe thead th {\n",
       "        text-align: right;\n",
       "    }\n",
       "</style>\n",
       "<table border=\"1\" class=\"dataframe\">\n",
       "  <thead>\n",
       "    <tr style=\"text-align: right;\">\n",
       "      <th></th>\n",
       "      <th>0</th>\n",
       "      <th>1</th>\n",
       "      <th>2</th>\n",
       "    </tr>\n",
       "  </thead>\n",
       "  <tbody>\n",
       "    <tr>\n",
       "      <th>0</th>\n",
       "      <td>0.946689</td>\n",
       "      <td>0.047003</td>\n",
       "      <td>0.965068</td>\n",
       "    </tr>\n",
       "    <tr>\n",
       "      <th>1</th>\n",
       "      <td>0.919844</td>\n",
       "      <td>0.512348</td>\n",
       "      <td>0.963808</td>\n",
       "    </tr>\n",
       "    <tr>\n",
       "      <th>2</th>\n",
       "      <td>0.179142</td>\n",
       "      <td>0.564373</td>\n",
       "      <td>0.386049</td>\n",
       "    </tr>\n",
       "    <tr>\n",
       "      <th>3</th>\n",
       "      <td>0.344959</td>\n",
       "      <td>0.651841</td>\n",
       "      <td>0.446034</td>\n",
       "    </tr>\n",
       "    <tr>\n",
       "      <th>4</th>\n",
       "      <td>0.102909</td>\n",
       "      <td>0.398505</td>\n",
       "      <td>0.304695</td>\n",
       "    </tr>\n",
       "    <tr>\n",
       "      <th>5</th>\n",
       "      <td>0.259134</td>\n",
       "      <td>0.946127</td>\n",
       "      <td>0.399130</td>\n",
       "    </tr>\n",
       "    <tr>\n",
       "      <th>6</th>\n",
       "      <td>0.163061</td>\n",
       "      <td>0.119102</td>\n",
       "      <td>0.920279</td>\n",
       "    </tr>\n",
       "    <tr>\n",
       "      <th>7</th>\n",
       "      <td>0.789085</td>\n",
       "      <td>0.830512</td>\n",
       "      <td>0.967747</td>\n",
       "    </tr>\n",
       "    <tr>\n",
       "      <th>8</th>\n",
       "      <td>0.344390</td>\n",
       "      <td>0.005270</td>\n",
       "      <td>0.383263</td>\n",
       "    </tr>\n",
       "    <tr>\n",
       "      <th>9</th>\n",
       "      <td>0.434752</td>\n",
       "      <td>0.353569</td>\n",
       "      <td>0.273433</td>\n",
       "    </tr>\n",
       "  </tbody>\n",
       "</table>\n",
       "</div>"
      ],
      "text/plain": [
       "          0         1         2\n",
       "0  0.946689  0.047003  0.965068\n",
       "1  0.919844  0.512348  0.963808\n",
       "2  0.179142  0.564373  0.386049\n",
       "3  0.344959  0.651841  0.446034\n",
       "4  0.102909  0.398505  0.304695\n",
       "5  0.259134  0.946127  0.399130\n",
       "6  0.163061  0.119102  0.920279\n",
       "7  0.789085  0.830512  0.967747\n",
       "8  0.344390  0.005270  0.383263\n",
       "9  0.434752  0.353569  0.273433"
      ]
     },
     "execution_count": 45,
     "metadata": {},
     "output_type": "execute_result"
    }
   ],
   "source": [
    "lf = np.random.random((10,3))\n",
    "lf = pd.DataFrame(lf)\n",
    "lf\n"
   ]
  },
  {
   "cell_type": "markdown",
   "metadata": {
    "colab_type": "text",
    "id": "clFAoNoYOak8"
   },
   "source": [
    "#### 2 Create a random dataframe containing 3 columns and 10 rows with specific column names. \n",
    "\n",
    "Use `['column1', 'column2', 'column3']` as the column names.\n",
    "\n",
    "**Example of output:**\n",
    "\n",
    "|    |   column1 |   column2 |   column3 |\n",
    "|---:|----------:|----------:|----------:|\n",
    "|  0 |        10 |        21 |        45 |\n",
    "|  1 |        32 |        87 |        39 |\n",
    "|  2 |        93 |        53 |         8 |\n",
    "|  3 |        52 |        77 |        41 |\n",
    "|  4 |        72 |        50 |        31 |\n",
    "|  5 |        16 |         6 |        41 |\n",
    "|  6 |        66 |        33 |        62 |\n",
    "|  7 |        97 |        50 |        92 |\n",
    "|  8 |        21 |        71 |        42 |\n",
    "|  9 |        91 |        97 |        32 |"
   ]
  },
  {
   "cell_type": "code",
   "execution_count": 54,
   "metadata": {
    "colab": {},
    "colab_type": "code",
    "id": "4VaCdj95Oak9"
   },
   "outputs": [
    {
     "data": {
      "text/html": [
       "<div>\n",
       "<style scoped>\n",
       "    .dataframe tbody tr th:only-of-type {\n",
       "        vertical-align: middle;\n",
       "    }\n",
       "\n",
       "    .dataframe tbody tr th {\n",
       "        vertical-align: top;\n",
       "    }\n",
       "\n",
       "    .dataframe thead th {\n",
       "        text-align: right;\n",
       "    }\n",
       "</style>\n",
       "<table border=\"1\" class=\"dataframe\">\n",
       "  <thead>\n",
       "    <tr style=\"text-align: right;\">\n",
       "      <th></th>\n",
       "      <th>column1</th>\n",
       "      <th>column2</th>\n",
       "      <th>column3</th>\n",
       "    </tr>\n",
       "  </thead>\n",
       "  <tbody>\n",
       "    <tr>\n",
       "      <th>0</th>\n",
       "      <td>0.793580</td>\n",
       "      <td>0.334259</td>\n",
       "      <td>0.221316</td>\n",
       "    </tr>\n",
       "    <tr>\n",
       "      <th>1</th>\n",
       "      <td>0.553404</td>\n",
       "      <td>0.047637</td>\n",
       "      <td>0.100950</td>\n",
       "    </tr>\n",
       "    <tr>\n",
       "      <th>2</th>\n",
       "      <td>0.267951</td>\n",
       "      <td>0.913498</td>\n",
       "      <td>0.064876</td>\n",
       "    </tr>\n",
       "    <tr>\n",
       "      <th>3</th>\n",
       "      <td>0.263499</td>\n",
       "      <td>0.864332</td>\n",
       "      <td>0.512316</td>\n",
       "    </tr>\n",
       "    <tr>\n",
       "      <th>4</th>\n",
       "      <td>0.184144</td>\n",
       "      <td>0.629135</td>\n",
       "      <td>0.254313</td>\n",
       "    </tr>\n",
       "    <tr>\n",
       "      <th>5</th>\n",
       "      <td>0.972395</td>\n",
       "      <td>0.688527</td>\n",
       "      <td>0.166855</td>\n",
       "    </tr>\n",
       "    <tr>\n",
       "      <th>6</th>\n",
       "      <td>0.919017</td>\n",
       "      <td>0.110994</td>\n",
       "      <td>0.907099</td>\n",
       "    </tr>\n",
       "    <tr>\n",
       "      <th>7</th>\n",
       "      <td>0.515804</td>\n",
       "      <td>0.675169</td>\n",
       "      <td>0.304142</td>\n",
       "    </tr>\n",
       "    <tr>\n",
       "      <th>8</th>\n",
       "      <td>0.570220</td>\n",
       "      <td>0.559369</td>\n",
       "      <td>0.699998</td>\n",
       "    </tr>\n",
       "    <tr>\n",
       "      <th>9</th>\n",
       "      <td>0.238415</td>\n",
       "      <td>0.489528</td>\n",
       "      <td>0.686588</td>\n",
       "    </tr>\n",
       "  </tbody>\n",
       "</table>\n",
       "</div>"
      ],
      "text/plain": [
       "    column1   column2   column3\n",
       "0  0.793580  0.334259  0.221316\n",
       "1  0.553404  0.047637  0.100950\n",
       "2  0.267951  0.913498  0.064876\n",
       "3  0.263499  0.864332  0.512316\n",
       "4  0.184144  0.629135  0.254313\n",
       "5  0.972395  0.688527  0.166855\n",
       "6  0.919017  0.110994  0.907099\n",
       "7  0.515804  0.675169  0.304142\n",
       "8  0.570220  0.559369  0.699998\n",
       "9  0.238415  0.489528  0.686588"
      ]
     },
     "execution_count": 54,
     "metadata": {},
     "output_type": "execute_result"
    }
   ],
   "source": [
    "# your code here\n",
    "col = ['column1', 'column2', 'column3']\n",
    "data_np= np.random.random((10,3))\n",
    "data_pd= pd.DataFrame(data_np, columns = col)\n",
    "data_pd  "
   ]
  },
  {
   "cell_type": "markdown",
   "metadata": {
    "colab_type": "text",
    "id": "t7SMOQNkOalA"
   },
   "source": [
    "#### 3 Create a random dataframe containing N columns and M rows with specific column names.\n",
    "\n",
    "For this task you'll have to name the columns as `['column1', 'column2', 'column3', ...,'columnN']`. You can use a list comprehension to do that."
   ]
  },
  {
   "cell_type": "code",
   "execution_count": 70,
   "metadata": {
    "colab": {},
    "colab_type": "code",
    "id": "y6o68u5HOalB"
   },
   "outputs": [
    {
     "data": {
      "text/html": [
       "<div>\n",
       "<style scoped>\n",
       "    .dataframe tbody tr th:only-of-type {\n",
       "        vertical-align: middle;\n",
       "    }\n",
       "\n",
       "    .dataframe tbody tr th {\n",
       "        vertical-align: top;\n",
       "    }\n",
       "\n",
       "    .dataframe thead th {\n",
       "        text-align: right;\n",
       "    }\n",
       "</style>\n",
       "<table border=\"1\" class=\"dataframe\">\n",
       "  <thead>\n",
       "    <tr style=\"text-align: right;\">\n",
       "      <th></th>\n",
       "      <th>column1</th>\n",
       "      <th>column2</th>\n",
       "      <th>column3</th>\n",
       "      <th>column4</th>\n",
       "      <th>column5</th>\n",
       "      <th>column6</th>\n",
       "      <th>column7</th>\n",
       "      <th>column8</th>\n",
       "      <th>columnM</th>\n",
       "      <th>columnN</th>\n",
       "    </tr>\n",
       "  </thead>\n",
       "  <tbody>\n",
       "    <tr>\n",
       "      <th>0</th>\n",
       "      <td>0.252020</td>\n",
       "      <td>0.033733</td>\n",
       "      <td>0.798819</td>\n",
       "      <td>0.378546</td>\n",
       "      <td>0.116342</td>\n",
       "      <td>0.521625</td>\n",
       "      <td>0.436320</td>\n",
       "      <td>0.577746</td>\n",
       "      <td>0.404206</td>\n",
       "      <td>0.221247</td>\n",
       "    </tr>\n",
       "    <tr>\n",
       "      <th>1</th>\n",
       "      <td>0.478668</td>\n",
       "      <td>0.688271</td>\n",
       "      <td>0.127543</td>\n",
       "      <td>0.470210</td>\n",
       "      <td>0.677889</td>\n",
       "      <td>0.037007</td>\n",
       "      <td>0.497891</td>\n",
       "      <td>0.402297</td>\n",
       "      <td>0.808922</td>\n",
       "      <td>0.673568</td>\n",
       "    </tr>\n",
       "    <tr>\n",
       "      <th>2</th>\n",
       "      <td>0.911926</td>\n",
       "      <td>0.648074</td>\n",
       "      <td>0.516646</td>\n",
       "      <td>0.317259</td>\n",
       "      <td>0.333884</td>\n",
       "      <td>0.081308</td>\n",
       "      <td>0.066391</td>\n",
       "      <td>0.541655</td>\n",
       "      <td>0.807713</td>\n",
       "      <td>0.685409</td>\n",
       "    </tr>\n",
       "    <tr>\n",
       "      <th>3</th>\n",
       "      <td>0.729267</td>\n",
       "      <td>0.356968</td>\n",
       "      <td>0.775709</td>\n",
       "      <td>0.355338</td>\n",
       "      <td>0.324115</td>\n",
       "      <td>0.513210</td>\n",
       "      <td>0.746720</td>\n",
       "      <td>0.100721</td>\n",
       "      <td>0.798618</td>\n",
       "      <td>0.435900</td>\n",
       "    </tr>\n",
       "    <tr>\n",
       "      <th>4</th>\n",
       "      <td>0.275649</td>\n",
       "      <td>0.227686</td>\n",
       "      <td>0.551286</td>\n",
       "      <td>0.577599</td>\n",
       "      <td>0.220219</td>\n",
       "      <td>0.071984</td>\n",
       "      <td>0.295008</td>\n",
       "      <td>0.753436</td>\n",
       "      <td>0.741728</td>\n",
       "      <td>0.720301</td>\n",
       "    </tr>\n",
       "    <tr>\n",
       "      <th>5</th>\n",
       "      <td>0.033699</td>\n",
       "      <td>0.187797</td>\n",
       "      <td>0.341305</td>\n",
       "      <td>0.613432</td>\n",
       "      <td>0.738949</td>\n",
       "      <td>0.873794</td>\n",
       "      <td>0.054382</td>\n",
       "      <td>0.573583</td>\n",
       "      <td>0.283495</td>\n",
       "      <td>0.988098</td>\n",
       "    </tr>\n",
       "    <tr>\n",
       "      <th>6</th>\n",
       "      <td>0.840486</td>\n",
       "      <td>0.367709</td>\n",
       "      <td>0.552893</td>\n",
       "      <td>0.932226</td>\n",
       "      <td>0.103866</td>\n",
       "      <td>0.041493</td>\n",
       "      <td>0.937515</td>\n",
       "      <td>0.894233</td>\n",
       "      <td>0.548492</td>\n",
       "      <td>0.158847</td>\n",
       "    </tr>\n",
       "    <tr>\n",
       "      <th>7</th>\n",
       "      <td>0.819502</td>\n",
       "      <td>0.591339</td>\n",
       "      <td>0.747028</td>\n",
       "      <td>0.708213</td>\n",
       "      <td>0.642965</td>\n",
       "      <td>0.019224</td>\n",
       "      <td>0.899801</td>\n",
       "      <td>0.534090</td>\n",
       "      <td>0.260619</td>\n",
       "      <td>0.725043</td>\n",
       "    </tr>\n",
       "    <tr>\n",
       "      <th>8</th>\n",
       "      <td>0.884730</td>\n",
       "      <td>0.134521</td>\n",
       "      <td>0.527193</td>\n",
       "      <td>0.526830</td>\n",
       "      <td>0.782617</td>\n",
       "      <td>0.058195</td>\n",
       "      <td>0.301828</td>\n",
       "      <td>0.063969</td>\n",
       "      <td>0.132937</td>\n",
       "      <td>0.090317</td>\n",
       "    </tr>\n",
       "    <tr>\n",
       "      <th>9</th>\n",
       "      <td>0.694581</td>\n",
       "      <td>0.688718</td>\n",
       "      <td>0.954922</td>\n",
       "      <td>0.756382</td>\n",
       "      <td>0.770550</td>\n",
       "      <td>0.494255</td>\n",
       "      <td>0.811676</td>\n",
       "      <td>0.344029</td>\n",
       "      <td>0.545655</td>\n",
       "      <td>0.859435</td>\n",
       "    </tr>\n",
       "    <tr>\n",
       "      <th>10</th>\n",
       "      <td>0.978069</td>\n",
       "      <td>0.950606</td>\n",
       "      <td>0.659400</td>\n",
       "      <td>0.953167</td>\n",
       "      <td>0.206766</td>\n",
       "      <td>0.733005</td>\n",
       "      <td>0.692558</td>\n",
       "      <td>0.202299</td>\n",
       "      <td>0.798025</td>\n",
       "      <td>0.838899</td>\n",
       "    </tr>\n",
       "    <tr>\n",
       "      <th>11</th>\n",
       "      <td>0.889356</td>\n",
       "      <td>0.123388</td>\n",
       "      <td>0.913408</td>\n",
       "      <td>0.922395</td>\n",
       "      <td>0.002367</td>\n",
       "      <td>0.429934</td>\n",
       "      <td>0.243013</td>\n",
       "      <td>0.328719</td>\n",
       "      <td>0.309881</td>\n",
       "      <td>0.003831</td>\n",
       "    </tr>\n",
       "    <tr>\n",
       "      <th>12</th>\n",
       "      <td>0.466940</td>\n",
       "      <td>0.543647</td>\n",
       "      <td>0.511906</td>\n",
       "      <td>0.475314</td>\n",
       "      <td>0.664297</td>\n",
       "      <td>0.915767</td>\n",
       "      <td>0.981286</td>\n",
       "      <td>0.970323</td>\n",
       "      <td>0.870701</td>\n",
       "      <td>0.932255</td>\n",
       "    </tr>\n",
       "    <tr>\n",
       "      <th>13</th>\n",
       "      <td>0.847897</td>\n",
       "      <td>0.990985</td>\n",
       "      <td>0.755801</td>\n",
       "      <td>0.360358</td>\n",
       "      <td>0.022342</td>\n",
       "      <td>0.720419</td>\n",
       "      <td>0.826345</td>\n",
       "      <td>0.332286</td>\n",
       "      <td>0.174707</td>\n",
       "      <td>0.746251</td>\n",
       "    </tr>\n",
       "    <tr>\n",
       "      <th>14</th>\n",
       "      <td>0.096549</td>\n",
       "      <td>0.510402</td>\n",
       "      <td>0.968720</td>\n",
       "      <td>0.890471</td>\n",
       "      <td>0.180007</td>\n",
       "      <td>0.137778</td>\n",
       "      <td>0.240537</td>\n",
       "      <td>0.043953</td>\n",
       "      <td>0.353862</td>\n",
       "      <td>0.435537</td>\n",
       "    </tr>\n",
       "    <tr>\n",
       "      <th>15</th>\n",
       "      <td>0.048525</td>\n",
       "      <td>0.347472</td>\n",
       "      <td>0.293363</td>\n",
       "      <td>0.144852</td>\n",
       "      <td>0.617707</td>\n",
       "      <td>0.147483</td>\n",
       "      <td>0.165750</td>\n",
       "      <td>0.513884</td>\n",
       "      <td>0.449254</td>\n",
       "      <td>0.720547</td>\n",
       "    </tr>\n",
       "    <tr>\n",
       "      <th>16</th>\n",
       "      <td>0.146162</td>\n",
       "      <td>0.341077</td>\n",
       "      <td>0.106315</td>\n",
       "      <td>0.593443</td>\n",
       "      <td>0.881761</td>\n",
       "      <td>0.401622</td>\n",
       "      <td>0.644079</td>\n",
       "      <td>0.475658</td>\n",
       "      <td>0.551055</td>\n",
       "      <td>0.823019</td>\n",
       "    </tr>\n",
       "    <tr>\n",
       "      <th>17</th>\n",
       "      <td>0.855600</td>\n",
       "      <td>0.581057</td>\n",
       "      <td>0.826500</td>\n",
       "      <td>0.431597</td>\n",
       "      <td>0.310765</td>\n",
       "      <td>0.504890</td>\n",
       "      <td>0.370490</td>\n",
       "      <td>0.609202</td>\n",
       "      <td>0.571240</td>\n",
       "      <td>0.002910</td>\n",
       "    </tr>\n",
       "    <tr>\n",
       "      <th>18</th>\n",
       "      <td>0.863146</td>\n",
       "      <td>0.403815</td>\n",
       "      <td>0.440111</td>\n",
       "      <td>0.436596</td>\n",
       "      <td>0.605050</td>\n",
       "      <td>0.603610</td>\n",
       "      <td>0.285471</td>\n",
       "      <td>0.596747</td>\n",
       "      <td>0.461619</td>\n",
       "      <td>0.173686</td>\n",
       "    </tr>\n",
       "    <tr>\n",
       "      <th>19</th>\n",
       "      <td>0.836650</td>\n",
       "      <td>0.598277</td>\n",
       "      <td>0.230052</td>\n",
       "      <td>0.096210</td>\n",
       "      <td>0.504843</td>\n",
       "      <td>0.125549</td>\n",
       "      <td>0.720064</td>\n",
       "      <td>0.833015</td>\n",
       "      <td>0.875956</td>\n",
       "      <td>0.971780</td>\n",
       "    </tr>\n",
       "    <tr>\n",
       "      <th>20</th>\n",
       "      <td>0.167177</td>\n",
       "      <td>0.234702</td>\n",
       "      <td>0.853656</td>\n",
       "      <td>0.523228</td>\n",
       "      <td>0.270433</td>\n",
       "      <td>0.694888</td>\n",
       "      <td>0.807500</td>\n",
       "      <td>0.855352</td>\n",
       "      <td>0.958099</td>\n",
       "      <td>0.041006</td>\n",
       "    </tr>\n",
       "    <tr>\n",
       "      <th>21</th>\n",
       "      <td>0.420840</td>\n",
       "      <td>0.473726</td>\n",
       "      <td>0.340244</td>\n",
       "      <td>0.304590</td>\n",
       "      <td>0.055121</td>\n",
       "      <td>0.958613</td>\n",
       "      <td>0.182231</td>\n",
       "      <td>0.513272</td>\n",
       "      <td>0.491434</td>\n",
       "      <td>0.329781</td>\n",
       "    </tr>\n",
       "    <tr>\n",
       "      <th>22</th>\n",
       "      <td>0.182743</td>\n",
       "      <td>0.805988</td>\n",
       "      <td>0.547645</td>\n",
       "      <td>0.658274</td>\n",
       "      <td>0.091724</td>\n",
       "      <td>0.076690</td>\n",
       "      <td>0.967199</td>\n",
       "      <td>0.505191</td>\n",
       "      <td>0.752183</td>\n",
       "      <td>0.446482</td>\n",
       "    </tr>\n",
       "    <tr>\n",
       "      <th>23</th>\n",
       "      <td>0.178320</td>\n",
       "      <td>0.656314</td>\n",
       "      <td>0.839853</td>\n",
       "      <td>0.846061</td>\n",
       "      <td>0.741449</td>\n",
       "      <td>0.461754</td>\n",
       "      <td>0.237593</td>\n",
       "      <td>0.977266</td>\n",
       "      <td>0.829687</td>\n",
       "      <td>0.676755</td>\n",
       "    </tr>\n",
       "    <tr>\n",
       "      <th>24</th>\n",
       "      <td>0.564813</td>\n",
       "      <td>0.766087</td>\n",
       "      <td>0.848871</td>\n",
       "      <td>0.503894</td>\n",
       "      <td>0.707568</td>\n",
       "      <td>0.577409</td>\n",
       "      <td>0.832837</td>\n",
       "      <td>0.833403</td>\n",
       "      <td>0.840916</td>\n",
       "      <td>0.745211</td>\n",
       "    </tr>\n",
       "    <tr>\n",
       "      <th>25</th>\n",
       "      <td>0.326786</td>\n",
       "      <td>0.447346</td>\n",
       "      <td>0.426994</td>\n",
       "      <td>0.462060</td>\n",
       "      <td>0.624481</td>\n",
       "      <td>0.589031</td>\n",
       "      <td>0.462093</td>\n",
       "      <td>0.783438</td>\n",
       "      <td>0.972206</td>\n",
       "      <td>0.607946</td>\n",
       "    </tr>\n",
       "    <tr>\n",
       "      <th>26</th>\n",
       "      <td>0.542629</td>\n",
       "      <td>0.814542</td>\n",
       "      <td>0.366405</td>\n",
       "      <td>0.007555</td>\n",
       "      <td>0.261821</td>\n",
       "      <td>0.430115</td>\n",
       "      <td>0.763704</td>\n",
       "      <td>0.317276</td>\n",
       "      <td>0.332111</td>\n",
       "      <td>0.690000</td>\n",
       "    </tr>\n",
       "    <tr>\n",
       "      <th>27</th>\n",
       "      <td>0.663240</td>\n",
       "      <td>0.490985</td>\n",
       "      <td>0.391408</td>\n",
       "      <td>0.199079</td>\n",
       "      <td>0.616032</td>\n",
       "      <td>0.337544</td>\n",
       "      <td>0.563896</td>\n",
       "      <td>0.349931</td>\n",
       "      <td>0.405020</td>\n",
       "      <td>0.499001</td>\n",
       "    </tr>\n",
       "    <tr>\n",
       "      <th>28</th>\n",
       "      <td>0.724620</td>\n",
       "      <td>0.843590</td>\n",
       "      <td>0.148871</td>\n",
       "      <td>0.220311</td>\n",
       "      <td>0.457002</td>\n",
       "      <td>0.502471</td>\n",
       "      <td>0.929500</td>\n",
       "      <td>0.098155</td>\n",
       "      <td>0.672127</td>\n",
       "      <td>0.240147</td>\n",
       "    </tr>\n",
       "    <tr>\n",
       "      <th>29</th>\n",
       "      <td>0.488195</td>\n",
       "      <td>0.383903</td>\n",
       "      <td>0.810514</td>\n",
       "      <td>0.717104</td>\n",
       "      <td>0.782576</td>\n",
       "      <td>0.544850</td>\n",
       "      <td>0.706342</td>\n",
       "      <td>0.812699</td>\n",
       "      <td>0.021906</td>\n",
       "      <td>0.379675</td>\n",
       "    </tr>\n",
       "  </tbody>\n",
       "</table>\n",
       "</div>"
      ],
      "text/plain": [
       "     column1   column2   column3   column4   column5   column6   column7  \\\n",
       "0   0.252020  0.033733  0.798819  0.378546  0.116342  0.521625  0.436320   \n",
       "1   0.478668  0.688271  0.127543  0.470210  0.677889  0.037007  0.497891   \n",
       "2   0.911926  0.648074  0.516646  0.317259  0.333884  0.081308  0.066391   \n",
       "3   0.729267  0.356968  0.775709  0.355338  0.324115  0.513210  0.746720   \n",
       "4   0.275649  0.227686  0.551286  0.577599  0.220219  0.071984  0.295008   \n",
       "5   0.033699  0.187797  0.341305  0.613432  0.738949  0.873794  0.054382   \n",
       "6   0.840486  0.367709  0.552893  0.932226  0.103866  0.041493  0.937515   \n",
       "7   0.819502  0.591339  0.747028  0.708213  0.642965  0.019224  0.899801   \n",
       "8   0.884730  0.134521  0.527193  0.526830  0.782617  0.058195  0.301828   \n",
       "9   0.694581  0.688718  0.954922  0.756382  0.770550  0.494255  0.811676   \n",
       "10  0.978069  0.950606  0.659400  0.953167  0.206766  0.733005  0.692558   \n",
       "11  0.889356  0.123388  0.913408  0.922395  0.002367  0.429934  0.243013   \n",
       "12  0.466940  0.543647  0.511906  0.475314  0.664297  0.915767  0.981286   \n",
       "13  0.847897  0.990985  0.755801  0.360358  0.022342  0.720419  0.826345   \n",
       "14  0.096549  0.510402  0.968720  0.890471  0.180007  0.137778  0.240537   \n",
       "15  0.048525  0.347472  0.293363  0.144852  0.617707  0.147483  0.165750   \n",
       "16  0.146162  0.341077  0.106315  0.593443  0.881761  0.401622  0.644079   \n",
       "17  0.855600  0.581057  0.826500  0.431597  0.310765  0.504890  0.370490   \n",
       "18  0.863146  0.403815  0.440111  0.436596  0.605050  0.603610  0.285471   \n",
       "19  0.836650  0.598277  0.230052  0.096210  0.504843  0.125549  0.720064   \n",
       "20  0.167177  0.234702  0.853656  0.523228  0.270433  0.694888  0.807500   \n",
       "21  0.420840  0.473726  0.340244  0.304590  0.055121  0.958613  0.182231   \n",
       "22  0.182743  0.805988  0.547645  0.658274  0.091724  0.076690  0.967199   \n",
       "23  0.178320  0.656314  0.839853  0.846061  0.741449  0.461754  0.237593   \n",
       "24  0.564813  0.766087  0.848871  0.503894  0.707568  0.577409  0.832837   \n",
       "25  0.326786  0.447346  0.426994  0.462060  0.624481  0.589031  0.462093   \n",
       "26  0.542629  0.814542  0.366405  0.007555  0.261821  0.430115  0.763704   \n",
       "27  0.663240  0.490985  0.391408  0.199079  0.616032  0.337544  0.563896   \n",
       "28  0.724620  0.843590  0.148871  0.220311  0.457002  0.502471  0.929500   \n",
       "29  0.488195  0.383903  0.810514  0.717104  0.782576  0.544850  0.706342   \n",
       "\n",
       "     column8   columnM   columnN  \n",
       "0   0.577746  0.404206  0.221247  \n",
       "1   0.402297  0.808922  0.673568  \n",
       "2   0.541655  0.807713  0.685409  \n",
       "3   0.100721  0.798618  0.435900  \n",
       "4   0.753436  0.741728  0.720301  \n",
       "5   0.573583  0.283495  0.988098  \n",
       "6   0.894233  0.548492  0.158847  \n",
       "7   0.534090  0.260619  0.725043  \n",
       "8   0.063969  0.132937  0.090317  \n",
       "9   0.344029  0.545655  0.859435  \n",
       "10  0.202299  0.798025  0.838899  \n",
       "11  0.328719  0.309881  0.003831  \n",
       "12  0.970323  0.870701  0.932255  \n",
       "13  0.332286  0.174707  0.746251  \n",
       "14  0.043953  0.353862  0.435537  \n",
       "15  0.513884  0.449254  0.720547  \n",
       "16  0.475658  0.551055  0.823019  \n",
       "17  0.609202  0.571240  0.002910  \n",
       "18  0.596747  0.461619  0.173686  \n",
       "19  0.833015  0.875956  0.971780  \n",
       "20  0.855352  0.958099  0.041006  \n",
       "21  0.513272  0.491434  0.329781  \n",
       "22  0.505191  0.752183  0.446482  \n",
       "23  0.977266  0.829687  0.676755  \n",
       "24  0.833403  0.840916  0.745211  \n",
       "25  0.783438  0.972206  0.607946  \n",
       "26  0.317276  0.332111  0.690000  \n",
       "27  0.349931  0.405020  0.499001  \n",
       "28  0.098155  0.672127  0.240147  \n",
       "29  0.812699  0.021906  0.379675  "
      ]
     },
     "execution_count": 70,
     "metadata": {},
     "output_type": "execute_result"
    }
   ],
   "source": [
    "N = 10\n",
    "M = 30\n",
    "cols = ['column1', 'column2', 'column3','column4','column5','column6','column7','column8','columnM','columnN']\n",
    "# your code here\n",
    "\n",
    "data_n = pd.DataFrame(np.random.random((M,N)),columns = cols)\n",
    "data_n"
   ]
  },
  {
   "cell_type": "code",
   "execution_count": null,
   "metadata": {},
   "outputs": [],
   "source": []
  }
 ],
 "metadata": {
  "colab": {
   "collapsed_sections": [],
   "name": "main.ipynb",
   "provenance": []
  },
  "kernelspec": {
   "display_name": "Python 3",
   "language": "python",
   "name": "python3"
  },
  "language_info": {
   "codemirror_mode": {
    "name": "ipython",
    "version": 3
   },
   "file_extension": ".py",
   "mimetype": "text/x-python",
   "name": "python",
   "nbconvert_exporter": "python",
   "pygments_lexer": "ipython3",
   "version": "3.7.6"
  }
 },
 "nbformat": 4,
 "nbformat_minor": 1
}
