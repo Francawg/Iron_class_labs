{
 "cells": [
  {
   "cell_type": "markdown",
   "metadata": {},
   "source": [
    "# Example Code"
   ]
  },
  {
   "cell_type": "code",
   "execution_count": null,
   "metadata": {
    "ExecuteTime": {
     "end_time": "2020-06-02T12:33:45.262835Z",
     "start_time": "2020-06-02T12:33:45.257847Z"
    }
   },
   "outputs": [],
   "source": [
    "print('Hello World')"
   ]
  },
  {
   "cell_type": "markdown",
   "metadata": {
    "ExecuteTime": {
     "end_time": "2020-06-01T21:03:11.750648Z",
     "start_time": "2020-06-01T21:03:11.742640Z"
    }
   },
   "source": [
    "ctrl+enter: executa o código e permanece na mesma célula\n",
    "\n",
    "shift+enter: executa o código e vai pra célula seguinte"
   ]
  },
  {
   "cell_type": "markdown",
   "metadata": {},
   "source": [
    "# Hello World\n",
    "## Hello World\n",
    "### Hello World\n",
    "#### Hello World"
   ]
  },
  {
   "cell_type": "markdown",
   "metadata": {},
   "source": [
    "# Hello World\n",
    "\n",
    "## Markdown\n",
    "\n",
    "##### Teste\n",
    "\n",
    "Simplesmente escrever aqui em <b> negrito </b> ou também em **negrito**, ou ainda em *itálico*, ou ainda <i> itálico </i>\n",
    "\n",
    "* Primeiro tópico\n",
    "* Segundo tópico\n",
    "\n",
    "> Citação\n",
    "\n",
    "```python\n",
    "print('Hello World')\n",
    "\n",
    "for i in range(10):\n",
    "    print('oi')\n",
    "```\n",
    "\n",
    "é uma documentação"
   ]
  },
  {
   "cell_type": "code",
   "execution_count": null,
   "metadata": {},
   "outputs": [],
   "source": [
    "# ctrl+enter\n",
    "# shift+enter"
   ]
  },
  {
   "cell_type": "markdown",
   "metadata": {},
   "source": [
    "# The print function"
   ]
  },
  {
   "cell_type": "code",
   "execution_count": null,
   "metadata": {
    "ExecuteTime": {
     "end_time": "2020-06-02T12:36:09.393487Z",
     "start_time": "2020-06-02T12:36:09.390523Z"
    }
   },
   "outputs": [],
   "source": [
    "x = 2\n",
    "print('Hello World')\n",
    "# debugging\n",
    "y = 3"
   ]
  },
  {
   "cell_type": "markdown",
   "metadata": {},
   "source": [
    "# Print variable"
   ]
  },
  {
   "cell_type": "code",
   "execution_count": null,
   "metadata": {
    "ExecuteTime": {
     "end_time": "2020-06-02T12:36:57.569202Z",
     "start_time": "2020-06-02T12:36:57.566209Z"
    }
   },
   "outputs": [],
   "source": [
    "x = 2 # assignment"
   ]
  },
  {
   "cell_type": "code",
   "execution_count": null,
   "metadata": {
    "ExecuteTime": {
     "end_time": "2020-06-02T12:36:58.069371Z",
     "start_time": "2020-06-02T12:36:58.066379Z"
    }
   },
   "outputs": [],
   "source": [
    "print(x)"
   ]
  },
  {
   "cell_type": "code",
   "execution_count": null,
   "metadata": {
    "ExecuteTime": {
     "end_time": "2020-06-02T12:37:09.369943Z",
     "start_time": "2020-06-02T12:37:09.365927Z"
    }
   },
   "outputs": [],
   "source": [
    "x = 2\n",
    "print(x)\n",
    "\n",
    "x = 3\n",
    "print(x)"
   ]
  },
  {
   "cell_type": "code",
   "execution_count": null,
   "metadata": {
    "ExecuteTime": {
     "end_time": "2020-06-02T12:38:46.577771Z",
     "start_time": "2020-06-02T12:38:46.573780Z"
    }
   },
   "outputs": [],
   "source": [
    "print('A variável x é igual a', x,'separado', x, x,x,x,x)"
   ]
  },
  {
   "cell_type": "code",
   "execution_count": null,
   "metadata": {
    "ExecuteTime": {
     "end_time": "2020-06-02T12:39:41.379858Z",
     "start_time": "2020-06-02T12:39:41.374870Z"
    }
   },
   "outputs": [],
   "source": [
    "print('A variável x é igual a', x,x,x,x,'blabla', sep='->')"
   ]
  },
  {
   "cell_type": "code",
   "execution_count": null,
   "metadata": {
    "ExecuteTime": {
     "end_time": "2020-06-02T12:41:33.983011Z",
     "start_time": "2020-06-02T12:41:33.979992Z"
    }
   },
   "outputs": [],
   "source": [
    "# %d : string interpolation\n",
    "print('A variável x é igual a %f' %3.14)"
   ]
  },
  {
   "cell_type": "code",
   "execution_count": null,
   "metadata": {
    "ExecuteTime": {
     "end_time": "2020-06-02T12:41:04.391049Z",
     "start_time": "2020-06-02T12:41:04.387060Z"
    }
   },
   "outputs": [],
   "source": [
    "print('A variável x é igual a %d' %x)"
   ]
  },
  {
   "cell_type": "code",
   "execution_count": null,
   "metadata": {
    "ExecuteTime": {
     "end_time": "2020-06-02T12:42:49.308286Z",
     "start_time": "2020-06-02T12:42:49.305294Z"
    }
   },
   "outputs": [],
   "source": [
    "print('A variável x é igual a {} que é igual {} que é diferente de {}'.format(10, 3.14, x))"
   ]
  },
  {
   "cell_type": "code",
   "execution_count": null,
   "metadata": {
    "ExecuteTime": {
     "end_time": "2020-06-02T12:43:31.134598Z",
     "start_time": "2020-06-02T12:43:31.130609Z"
    }
   },
   "outputs": [],
   "source": [
    "print('A variável x é igual a {x}')"
   ]
  },
  {
   "cell_type": "code",
   "execution_count": null,
   "metadata": {
    "ExecuteTime": {
     "end_time": "2020-06-02T12:45:07.038429Z",
     "start_time": "2020-06-02T12:45:07.034440Z"
    }
   },
   "outputs": [],
   "source": [
    "x = 3\n",
    "y = 10\n",
    "pi = 3.14"
   ]
  },
  {
   "cell_type": "code",
   "execution_count": null,
   "metadata": {
    "ExecuteTime": {
     "end_time": "2020-06-02T12:45:08.381754Z",
     "start_time": "2020-06-02T12:45:08.377763Z"
    }
   },
   "outputs": [],
   "source": [
    "print(f'A variável x é igual a {y} que é diferente {pi} que é diferente de {x}')"
   ]
  },
  {
   "cell_type": "markdown",
   "metadata": {},
   "source": [
    "# Data Types"
   ]
  },
  {
   "cell_type": "code",
   "execution_count": null,
   "metadata": {
    "ExecuteTime": {
     "end_time": "2020-06-02T12:48:06.252878Z",
     "start_time": "2020-06-02T12:48:06.248888Z"
    }
   },
   "outputs": [],
   "source": [
    "# type function\n",
    "\n",
    "# types: float, str, int, bool\n",
    "\n",
    "# string: str\n",
    "type('A variavel x é igual a x')\n",
    "\n",
    "\n",
    "\n",
    "print(x)\n",
    "print(pi)"
   ]
  },
  {
   "cell_type": "code",
   "execution_count": null,
   "metadata": {
    "ExecuteTime": {
     "end_time": "2020-06-02T12:49:02.568440Z",
     "start_time": "2020-06-02T12:49:02.564451Z"
    }
   },
   "outputs": [],
   "source": [
    "pi"
   ]
  },
  {
   "cell_type": "code",
   "execution_count": null,
   "metadata": {
    "ExecuteTime": {
     "end_time": "2020-06-02T12:48:47.432135Z",
     "start_time": "2020-06-02T12:48:47.428174Z"
    }
   },
   "outputs": [],
   "source": [
    "# float\n",
    "type(pi)"
   ]
  },
  {
   "cell_type": "code",
   "execution_count": null,
   "metadata": {
    "ExecuteTime": {
     "end_time": "2020-06-02T12:49:00.288218Z",
     "start_time": "2020-06-02T12:49:00.284200Z"
    }
   },
   "outputs": [],
   "source": [
    "x"
   ]
  },
  {
   "cell_type": "code",
   "execution_count": null,
   "metadata": {
    "ExecuteTime": {
     "end_time": "2020-06-02T12:48:57.877804Z",
     "start_time": "2020-06-02T12:48:57.874811Z"
    }
   },
   "outputs": [],
   "source": [
    "# int \n",
    "type(x)"
   ]
  },
  {
   "cell_type": "code",
   "execution_count": null,
   "metadata": {
    "ExecuteTime": {
     "end_time": "2020-06-02T12:49:57.337218Z",
     "start_time": "2020-06-02T12:49:57.334255Z"
    }
   },
   "outputs": [],
   "source": [
    "# bool\n",
    "is_happy = True"
   ]
  },
  {
   "cell_type": "code",
   "execution_count": null,
   "metadata": {
    "ExecuteTime": {
     "end_time": "2020-06-02T12:49:57.598306Z",
     "start_time": "2020-06-02T12:49:57.594317Z"
    }
   },
   "outputs": [],
   "source": [
    "type(is_happy)"
   ]
  },
  {
   "cell_type": "code",
   "execution_count": null,
   "metadata": {
    "ExecuteTime": {
     "end_time": "2020-06-02T12:50:37.865817Z",
     "start_time": "2020-06-02T12:50:37.861828Z"
    }
   },
   "outputs": [],
   "source": [
    "exemplo = 'isso é uma string'"
   ]
  },
  {
   "cell_type": "code",
   "execution_count": null,
   "metadata": {
    "ExecuteTime": {
     "end_time": "2020-06-02T12:53:44.664814Z",
     "start_time": "2020-06-02T12:53:44.660825Z"
    }
   },
   "outputs": [],
   "source": [
    "# multiselection - segurando ctrl, clicando pra gerar algum cursor novo\n",
    "\n",
    "print(f'O tipo da variável exemplo {type(exemplo)}')\n",
    "print(f'O tipo da variável is_happy {type(is_happy)}')\n",
    "print(f'O tipo da variável pi {type(pi)}')\n",
    "print(f'O tipo da variável x {type(x)}')"
   ]
  },
  {
   "cell_type": "markdown",
   "metadata": {},
   "source": [
    "# Code Execution"
   ]
  },
  {
   "cell_type": "markdown",
   "metadata": {},
   "source": [
    "## For loops"
   ]
  },
  {
   "cell_type": "code",
   "execution_count": null,
   "metadata": {
    "ExecuteTime": {
     "end_time": "2020-06-02T12:55:06.050376Z",
     "start_time": "2020-06-02T12:55:06.046387Z"
    }
   },
   "outputs": [],
   "source": [
    "range(10)"
   ]
  },
  {
   "cell_type": "code",
   "execution_count": null,
   "metadata": {
    "ExecuteTime": {
     "end_time": "2020-06-02T12:56:25.890965Z",
     "start_time": "2020-06-02T12:56:25.887973Z"
    }
   },
   "outputs": [],
   "source": [
    "# [0, 5)\n",
    "# shift tab to show help\n",
    "for item in range(5):    \n",
    "    print(item)"
   ]
  },
  {
   "cell_type": "code",
   "execution_count": null,
   "metadata": {
    "ExecuteTime": {
     "end_time": "2020-06-02T12:58:30.642213Z",
     "start_time": "2020-06-02T12:58:30.638194Z"
    }
   },
   "outputs": [],
   "source": [
    "# [3, 10)\n",
    "for item in range(3, 10):\n",
    "    print(item)"
   ]
  },
  {
   "cell_type": "code",
   "execution_count": null,
   "metadata": {},
   "outputs": [],
   "source": [
    "[10, 3)"
   ]
  },
  {
   "cell_type": "code",
   "execution_count": null,
   "metadata": {
    "ExecuteTime": {
     "end_time": "2020-06-02T12:59:52.779746Z",
     "start_time": "2020-06-02T12:59:52.776754Z"
    }
   },
   "outputs": [],
   "source": [
    "for item in range(10, 3, -2):\n",
    "    print(item)"
   ]
  },
  {
   "cell_type": "code",
   "execution_count": null,
   "metadata": {
    "ExecuteTime": {
     "end_time": "2020-06-02T12:59:43.645991Z",
     "start_time": "2020-06-02T12:59:43.642002Z"
    }
   },
   "outputs": [],
   "source": [
    "for item in [10, 9, 8, 7, 6, 5, 4]:\n",
    "    print(item)"
   ]
  },
  {
   "cell_type": "code",
   "execution_count": null,
   "metadata": {
    "ExecuteTime": {
     "end_time": "2020-06-02T12:59:57.371156Z",
     "start_time": "2020-06-02T12:59:57.367137Z"
    }
   },
   "outputs": [],
   "source": [
    "list(range(10, 3, -2))"
   ]
  },
  {
   "cell_type": "code",
   "execution_count": null,
   "metadata": {
    "ExecuteTime": {
     "end_time": "2020-06-02T13:03:04.151297Z",
     "start_time": "2020-06-02T13:03:04.146310Z"
    }
   },
   "outputs": [],
   "source": [
    "98 in [10, 9, 8, 7, 6, 5, 4]"
   ]
  },
  {
   "cell_type": "code",
   "execution_count": null,
   "metadata": {},
   "outputs": [],
   "source": [
    "# indentation\n",
    "# :\n",
    "# running through lists (iterators)\n",
    "# range\n",
    "# backwards range"
   ]
  },
  {
   "cell_type": "code",
   "execution_count": null,
   "metadata": {
    "ExecuteTime": {
     "end_time": "2020-06-02T13:03:18.024403Z",
     "start_time": "2020-06-02T13:03:18.020414Z"
    }
   },
   "outputs": [],
   "source": [
    "print('Miau')\n",
    "print('Miau')\n",
    "print('Miau')\n",
    "print('Miau')\n",
    "print('Miau')"
   ]
  },
  {
   "cell_type": "code",
   "execution_count": null,
   "metadata": {
    "ExecuteTime": {
     "end_time": "2020-06-02T13:03:55.000522Z",
     "start_time": "2020-06-02T13:03:54.997502Z"
    }
   },
   "outputs": [],
   "source": [
    "for qualquer_coisa in range(5):\n",
    "    print('Miau')"
   ]
  },
  {
   "cell_type": "code",
   "execution_count": null,
   "metadata": {
    "ExecuteTime": {
     "end_time": "2020-06-02T13:04:26.420575Z",
     "start_time": "2020-06-02T13:04:26.416586Z"
    }
   },
   "outputs": [],
   "source": [
    "for _ in range(5):\n",
    "    print('Miau')"
   ]
  },
  {
   "cell_type": "code",
   "execution_count": null,
   "metadata": {
    "ExecuteTime": {
     "end_time": "2020-06-02T13:05:02.503678Z",
     "start_time": "2020-06-02T13:05:02.500650Z"
    }
   },
   "outputs": [],
   "source": [
    "x, y = 4, 3\n",
    "# x = 4\n",
    "# y = 3"
   ]
  },
  {
   "cell_type": "code",
   "execution_count": null,
   "metadata": {
    "ExecuteTime": {
     "end_time": "2020-06-02T13:06:28.064378Z",
     "start_time": "2020-06-02T13:06:28.059391Z"
    }
   },
   "outputs": [],
   "source": [
    "contador = 0\n",
    "\n",
    "for item in range(5):\n",
    "    print(f'Miau {item} e contador {contador}')\n",
    "    contador = item + 1\n",
    "    \n",
    "    "
   ]
  },
  {
   "cell_type": "markdown",
   "metadata": {},
   "source": [
    "## While loops"
   ]
  },
  {
   "cell_type": "code",
   "execution_count": null,
   "metadata": {
    "ExecuteTime": {
     "end_time": "2020-06-02T13:07:02.326793Z",
     "start_time": "2020-06-02T13:07:02.322804Z"
    }
   },
   "outputs": [],
   "source": [
    "item = 0\n",
    "item < 10"
   ]
  },
  {
   "cell_type": "code",
   "execution_count": null,
   "metadata": {
    "ExecuteTime": {
     "end_time": "2020-06-02T13:07:37.340035Z",
     "start_time": "2020-06-02T13:07:37.336047Z"
    }
   },
   "outputs": [],
   "source": [
    "item = 0\n",
    "\n",
    "while item < 10:\n",
    "    print('Miau')\n",
    "    item = item + 1\n",
    "    print(item)"
   ]
  },
  {
   "cell_type": "code",
   "execution_count": null,
   "metadata": {},
   "outputs": [],
   "source": [
    "# while loop run while a condition is True"
   ]
  },
  {
   "cell_type": "markdown",
   "metadata": {},
   "source": [
    "# Conditions"
   ]
  },
  {
   "cell_type": "code",
   "execution_count": null,
   "metadata": {
    "ExecuteTime": {
     "end_time": "2020-06-02T13:11:34.854524Z",
     "start_time": "2020-06-02T13:11:34.851531Z"
    }
   },
   "outputs": [],
   "source": [
    "a = 10\n",
    "b = 5\n",
    "c = 70"
   ]
  },
  {
   "cell_type": "code",
   "execution_count": null,
   "metadata": {
    "ExecuteTime": {
     "end_time": "2020-06-02T13:09:38.862033Z",
     "start_time": "2020-06-02T13:09:38.858043Z"
    }
   },
   "outputs": [],
   "source": [
    "if a > b and a > c:\n",
    "    print('Hackyourlife')\n",
    "else:\n",
    "    print('Shakeyourlife')"
   ]
  },
  {
   "cell_type": "code",
   "execution_count": null,
   "metadata": {
    "ExecuteTime": {
     "end_time": "2020-06-02T13:09:30.763690Z",
     "start_time": "2020-06-02T13:09:30.759700Z"
    }
   },
   "outputs": [],
   "source": [
    "a > b and a > c"
   ]
  },
  {
   "cell_type": "code",
   "execution_count": null,
   "metadata": {
    "ExecuteTime": {
     "end_time": "2020-06-02T13:11:00.447552Z",
     "start_time": "2020-06-02T13:11:00.443593Z"
    }
   },
   "outputs": [],
   "source": [
    "True and True"
   ]
  },
  {
   "cell_type": "code",
   "execution_count": null,
   "metadata": {
    "ExecuteTime": {
     "end_time": "2020-06-02T13:10:57.178573Z",
     "start_time": "2020-06-02T13:10:57.174584Z"
    }
   },
   "outputs": [],
   "source": [
    "True and False"
   ]
  },
  {
   "cell_type": "code",
   "execution_count": null,
   "metadata": {
    "ExecuteTime": {
     "end_time": "2020-06-02T13:10:50.147122Z",
     "start_time": "2020-06-02T13:10:50.143133Z"
    }
   },
   "outputs": [],
   "source": [
    "False and True"
   ]
  },
  {
   "cell_type": "code",
   "execution_count": null,
   "metadata": {
    "ExecuteTime": {
     "end_time": "2020-06-02T13:11:30.752484Z",
     "start_time": "2020-06-02T13:11:30.748494Z"
    }
   },
   "outputs": [],
   "source": [
    "if a > b or a > c:\n",
    "    print('Hackyourlife')\n",
    "else:\n",
    "    print('Shakeyourlife')"
   ]
  },
  {
   "cell_type": "code",
   "execution_count": null,
   "metadata": {
    "ExecuteTime": {
     "end_time": "2020-06-02T13:11:08.770820Z",
     "start_time": "2020-06-02T13:11:08.766831Z"
    }
   },
   "outputs": [],
   "source": [
    "True or True"
   ]
  },
  {
   "cell_type": "code",
   "execution_count": null,
   "metadata": {
    "ExecuteTime": {
     "end_time": "2020-06-02T13:11:13.089126Z",
     "start_time": "2020-06-02T13:11:13.086106Z"
    }
   },
   "outputs": [],
   "source": [
    "True or False"
   ]
  },
  {
   "cell_type": "code",
   "execution_count": null,
   "metadata": {
    "ExecuteTime": {
     "end_time": "2020-06-02T13:11:20.704909Z",
     "start_time": "2020-06-02T13:11:20.699923Z"
    }
   },
   "outputs": [],
   "source": [
    "False or True"
   ]
  },
  {
   "cell_type": "code",
   "execution_count": null,
   "metadata": {
    "ExecuteTime": {
     "end_time": "2020-06-02T13:11:27.206135Z",
     "start_time": "2020-06-02T13:11:27.202146Z"
    }
   },
   "outputs": [],
   "source": [
    "False or False"
   ]
  },
  {
   "cell_type": "code",
   "execution_count": null,
   "metadata": {
    "ExecuteTime": {
     "end_time": "2020-06-02T13:12:04.831060Z",
     "start_time": "2020-06-02T13:12:04.827100Z"
    }
   },
   "outputs": [],
   "source": [
    "type(a > b)"
   ]
  },
  {
   "cell_type": "code",
   "execution_count": null,
   "metadata": {
    "ExecuteTime": {
     "end_time": "2020-06-02T13:12:16.624929Z",
     "start_time": "2020-06-02T13:12:16.620940Z"
    }
   },
   "outputs": [],
   "source": [
    "int(False)"
   ]
  },
  {
   "cell_type": "code",
   "execution_count": null,
   "metadata": {
    "ExecuteTime": {
     "end_time": "2020-06-02T13:12:23.131925Z",
     "start_time": "2020-06-02T13:12:23.127935Z"
    }
   },
   "outputs": [],
   "source": [
    "int(True)"
   ]
  },
  {
   "cell_type": "code",
   "execution_count": null,
   "metadata": {
    "ExecuteTime": {
     "end_time": "2020-06-02T13:13:15.166590Z",
     "start_time": "2020-06-02T13:13:15.162600Z"
    }
   },
   "outputs": [],
   "source": [
    "30 * True + 1000 * False"
   ]
  }
 ],
 "metadata": {
  "kernelspec": {
   "display_name": "Python 3",
   "language": "python",
   "name": "python3"
  },
  "language_info": {
   "codemirror_mode": {
    "name": "ipython",
    "version": 3
   },
   "file_extension": ".py",
   "mimetype": "text/x-python",
   "name": "python",
   "nbconvert_exporter": "python",
   "pygments_lexer": "ipython3",
   "version": "3.7.3"
  },
  "toc": {
   "base_numbering": 1,
   "nav_menu": {},
   "number_sections": true,
   "sideBar": true,
   "skip_h1_title": false,
   "title_cell": "Table of Contents",
   "title_sidebar": "Contents",
   "toc_cell": false,
   "toc_position": {
    "height": "calc(100% - 180px)",
    "left": "10px",
    "top": "150px",
    "width": "307.2px"
   },
   "toc_section_display": true,
   "toc_window_display": false
  }
 },
 "nbformat": 4,
 "nbformat_minor": 2
}
