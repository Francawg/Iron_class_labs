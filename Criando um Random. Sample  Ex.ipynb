{
 "cells": [
  {
   "cell_type": "code",
   "execution_count": 4,
   "metadata": {},
   "outputs": [],
   "source": [
    "###sample(seq, k)\n",
    "#Retorne uma lista ordenada aleatoriamente de tamanho k dessa sequência\n",
    "#No método anterior, você deve ter notado que a função modifica a própria sequência passada como parâmetro. Caso não queira modificar sua lista inicial, você pode chamar: random.sample(cards, len(cards))\n",
    "#O sample pode ser utilizado ainda para retornar sequências menores através do parâmetro k.\n",
    "\n",
    "#Obtendo uma mão de 5 cartas aleatórias\n",
    "#Outro recurso deste método é a sua utilização com tuplas, sets e frozensets, já que o método shuffle lançaria as respectivas exceções:\n",
    "#TypeError: ‘tuple’ object does not support item assignment (objeto “tupla” não suporta atribuição de items)\n",
    "#TypeError: ‘set’ object does not support indexing (objeto “set” não suporta indexação)\n",
    "#TypeError: ‘frozenset’ object does not support indexing (objeto “frozenset” não suporta indexação)\n",
    "\n",
    "#Embaralhando tuplas, sets e frozensets\n",
    "#Note que o sample sempre retorna uma nova lista, não importando se a sequência inicial era uma tuple, set ou frozenset.\n"
   ]
  },
  {
   "cell_type": "code",
   "execution_count": 1,
   "metadata": {},
   "outputs": [],
   "source": [
    "import random"
   ]
  },
  {
   "cell_type": "code",
   "execution_count": 2,
   "metadata": {},
   "outputs": [
    {
     "name": "stdout",
     "output_type": "stream",
     "text": [
      "Digite algo: ola\n",
      "['o', 'l', 'a']\n"
     ]
    }
   ],
   "source": []
  }
 ],
 "metadata": {
  "kernelspec": {
   "display_name": "Python 3",
   "language": "python",
   "name": "python3"
  },
  "language_info": {
   "codemirror_mode": {
    "name": "ipython",
    "version": 3
   },
   "file_extension": ".py",
   "mimetype": "text/x-python",
   "name": "python",
   "nbconvert_exporter": "python",
   "pygments_lexer": "ipython3",
   "version": "3.7.6"
  }
 },
 "nbformat": 4,
 "nbformat_minor": 4
}
